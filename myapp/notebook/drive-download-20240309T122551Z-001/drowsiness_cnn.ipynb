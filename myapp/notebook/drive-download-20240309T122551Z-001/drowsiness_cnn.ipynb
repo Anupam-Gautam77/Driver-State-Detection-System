{
  "metadata": {
    "kernelspec": {
      "language": "python",
      "display_name": "Python 3",
      "name": "python3"
    },
    "language_info": {
      "name": "python",
      "version": "3.10.13",
      "mimetype": "text/x-python",
      "codemirror_mode": {
        "name": "ipython",
        "version": 3
      },
      "pygments_lexer": "ipython3",
      "nbconvert_exporter": "python",
      "file_extension": ".py"
    },
    "kaggle": {
      "accelerator": "nvidiaTeslaT4",
      "dataSources": [
        {
          "sourceId": 1602520,
          "sourceType": "datasetVersion",
          "datasetId": 945925
        },
        {
          "sourceId": 1929873,
          "sourceType": "datasetVersion",
          "datasetId": 1151215
        },
        {
          "sourceId": 2452462,
          "sourceType": "datasetVersion",
          "datasetId": 1484430
        },
        {
          "sourceId": 4895821,
          "sourceType": "datasetVersion",
          "datasetId": 2839089
        },
        {
          "sourceId": 7442249,
          "sourceType": "datasetVersion",
          "datasetId": 4331742
        },
        {
          "sourceId": 7702153,
          "sourceType": "datasetVersion",
          "datasetId": 4496156
        },
        {
          "sourceId": 7750718,
          "sourceType": "datasetVersion",
          "datasetId": 4531488
        }
      ],
      "dockerImageVersionId": 30665,
      "isInternetEnabled": true,
      "language": "python",
      "sourceType": "notebook",
      "isGpuEnabled": true
    },
    "colab": {
      "name": "drowsiness_cnn.ipynb",
      "provenance": []
    }
  },
  "nbformat_minor": 0,
  "nbformat": 4,
  "cells": [
    {
      "source": [
        "\n",
        "# IMPORTANT: RUN THIS CELL IN ORDER TO IMPORT YOUR KAGGLE DATA SOURCES\n",
        "# TO THE CORRECT LOCATION (/kaggle/input) IN YOUR NOTEBOOK,\n",
        "# THEN FEEL FREE TO DELETE THIS CELL.\n",
        "# NOTE: THIS NOTEBOOK ENVIRONMENT DIFFERS FROM KAGGLE'S PYTHON\n",
        "# ENVIRONMENT SO THERE MAY BE MISSING LIBRARIES USED BY YOUR\n",
        "# NOTEBOOK.\n",
        "\n",
        "import os\n",
        "import sys\n",
        "from tempfile import NamedTemporaryFile\n",
        "from urllib.request import urlopen\n",
        "from urllib.parse import unquote, urlparse\n",
        "from urllib.error import HTTPError\n",
        "from zipfile import ZipFile\n",
        "import tarfile\n",
        "import shutil\n",
        "\n",
        "CHUNK_SIZE = 40960\n",
        "DATA_SOURCE_MAPPING = 'yolov3-weights:https%3A%2F%2Fstorage.googleapis.com%2Fkaggle-data-sets%2F945925%2F1602520%2Fbundle%2Farchive.zip%3FX-Goog-Algorithm%3DGOOG4-RSA-SHA256%26X-Goog-Credential%3Dgcp-kaggle-com%2540kaggle-161607.iam.gserviceaccount.com%252F20240308%252Fauto%252Fstorage%252Fgoog4_request%26X-Goog-Date%3D20240308T112828Z%26X-Goog-Expires%3D259200%26X-Goog-SignedHeaders%3Dhost%26X-Goog-Signature%3D88691456a54b918a035e04b3d2e4ebabd80931881a8edb1f0ca7e725089d9b07d853914ca3fc60df54bf00e5e35038d419d3360b4159ab746a49a147fc73ca1554d8d94ee48841b88de40a064dc1d27455181ba354943760d4e1f01066b006e370269eeaa45756350090c97a702f02c4d0509d7feba82f0a57b8e309f34570fb48b7e7652a130daffc5880c2d0e2688691b612d17de5f961dcef3e176b43a6f713ea9d7e662fb7aa9cd1ecc6cd7b268c8c49b5d695fcb267fe1045531d78d575ca9b7f49a5e0d844cb9b2407addfc897e4ca409a8d7a40adb5f39b150d3cfbf655e7176ca28cfdc63cae57911b08a542cec283a26430eca97be223c41071d115,shape-predictor-68-face-landmarksdat:https%3A%2F%2Fstorage.googleapis.com%2Fkaggle-data-sets%2F1151215%2F1929873%2Fbundle%2Farchive.zip%3FX-Goog-Algorithm%3DGOOG4-RSA-SHA256%26X-Goog-Credential%3Dgcp-kaggle-com%2540kaggle-161607.iam.gserviceaccount.com%252F20240308%252Fauto%252Fstorage%252Fgoog4_request%26X-Goog-Date%3D20240308T112828Z%26X-Goog-Expires%3D259200%26X-Goog-SignedHeaders%3Dhost%26X-Goog-Signature%3D7bfdab9488d2689b8b6b1c911bc6e5bb278ed81f4cb751507a36f8da4f7b38911d0ae2f1a1a2e8b8694ab6a9c79f81f16d15ed8233f5726128c05f04d4fbdc49e09756077eced4a57e89e50aab8ff5b28ad83ac8f10eafc0cf0014bd29712121a203dd89870f1f5df174d4ad0fddbb45aec1ea9452223ca7a2e1880d7b5f98417f91014ca2caa2994c83582c323f2f4cd3efcea91a6c2679dd4a9517ee3d9abfa6f8b76300d3f59a5e75b962e5997e79fe3346514aec437b668432724fc984f807996f411fc4e5cd817fed67256895fd4577bfc2d4b32284905340c320512f49027fdf79299986100eb3484e95f856218701e01362831f3ee540ad24d4bb07a9,coconames:https%3A%2F%2Fstorage.googleapis.com%2Fkaggle-data-sets%2F1484430%2F2452462%2Fbundle%2Farchive.zip%3FX-Goog-Algorithm%3DGOOG4-RSA-SHA256%26X-Goog-Credential%3Dgcp-kaggle-com%2540kaggle-161607.iam.gserviceaccount.com%252F20240308%252Fauto%252Fstorage%252Fgoog4_request%26X-Goog-Date%3D20240308T112829Z%26X-Goog-Expires%3D259200%26X-Goog-SignedHeaders%3Dhost%26X-Goog-Signature%3D51666150f69a0ae0c600ab4c99143fa2dd4c7eafeaba9f3e6b9e75e85e6514218051ee07009aae234435873e3f90b2e74725e6c52d2c87c5ce8e0bf7d790f3a4923b5d8780ab5404af6ea5d1899688a44b956f5d42c04e8bb71d2cdfaf99d492de535adf24348639e51371fa6f9fc3b01b1c0aec63bfe4e375e967d6d38bf8b55eb711b976d2a99bd5942198d64cc162ede1abf3fe5bc3656886890a6a5593b340c99501af359b6382d283eab84c7d2c290242e2ac4b1787a7abcfe141f23ecc6ff3c9d63de96d7ad7f5e26ae0e94221b1372c5a409d62174491204f1de401d4273d66482bc9d426a5997eca1b88c52c4972c5674625ac512275fede7262afb6,uta-reallife-drowsiness-dataset:https%3A%2F%2Fstorage.googleapis.com%2Fkaggle-data-sets%2F2839089%2F4895821%2Fbundle%2Farchive.zip%3FX-Goog-Algorithm%3DGOOG4-RSA-SHA256%26X-Goog-Credential%3Dgcp-kaggle-com%2540kaggle-161607.iam.gserviceaccount.com%252F20240308%252Fauto%252Fstorage%252Fgoog4_request%26X-Goog-Date%3D20240308T112829Z%26X-Goog-Expires%3D259200%26X-Goog-SignedHeaders%3Dhost%26X-Goog-Signature%3D98a7849fed183ff0eb903a2ac2f2cd4280d3aa9d563a5b45452b2bc98f4b0ff9924cb1b9319527b495ccadadb7b6708899962f58dbc2d92ec1c410330e795f5bb59fec8458b5cf397a4208f92dc4446358a0fb11592de92f7822cf9d7ca0f1ccc261c11b3c9a8b2db129e9722f81360b616b98c82b53b6542525e63c4c02e3cd94d21ae8fe0e5cbe2cb4ccd0fae7ba2c72b50220b77e5eb2f9e165ede99fc127a23f7f20d3d64eeb115c6182e2e7740e6f813657c1152cf312e08c2667fae339a8350ed659fc33a5ebb9f0e88b8788c69ccf24436dbcc9f3c3191d3c46cf1c43eca09699df0ecef14dd222946a5df78e2c1d6309a0d63e0c0306e009abce2acb,drowsy-festure:https%3A%2F%2Fstorage.googleapis.com%2Fkaggle-data-sets%2F4531488%2F7750718%2Fbundle%2Farchive.zip%3FX-Goog-Algorithm%3DGOOG4-RSA-SHA256%26X-Goog-Credential%3Dgcp-kaggle-com%2540kaggle-161607.iam.gserviceaccount.com%252F20240308%252Fauto%252Fstorage%252Fgoog4_request%26X-Goog-Date%3D20240308T112829Z%26X-Goog-Expires%3D259200%26X-Goog-SignedHeaders%3Dhost%26X-Goog-Signature%3D53b74dfb68049b07c36e219ad0394c689f8d4fd670a0d4ac8b7153850c3ae21d25b1e6a852b0eab6e739c45ecf0a838fda14f605742c827319acf0fac3c0da58b2bb1b30a29e92c9a04ad607223f2d2adb535b56a5da959ec0e818bdcfcba019b5cde339f9c8d72dd7a9e7e6e45deeb12548dc391cff2200be14b47eea410280af23c41ca5f9d98cf4a4dc21cefbf7136be43a18fed6feeaab942709e19476f24178f056068e52976901d554124dcbc1020a3f08159439e1bcbdeea318152776be4547e6023de3e6ffd31edccbd6d072b8345c461a481543af1521cd9d61007a448ed38989e7856896a47ae7b60f4d211983b1794850807a761dbf1f0b5c51ed'\n",
        "\n",
        "KAGGLE_INPUT_PATH='/kaggle/input'\n",
        "KAGGLE_WORKING_PATH='/kaggle/working'\n",
        "KAGGLE_SYMLINK='kaggle'\n",
        "\n",
        "!umount /kaggle/input/ 2> /dev/null\n",
        "shutil.rmtree('/kaggle/input', ignore_errors=True)\n",
        "os.makedirs(KAGGLE_INPUT_PATH, 0o777, exist_ok=True)\n",
        "os.makedirs(KAGGLE_WORKING_PATH, 0o777, exist_ok=True)\n",
        "\n",
        "try:\n",
        "  os.symlink(KAGGLE_INPUT_PATH, os.path.join(\"..\", 'input'), target_is_directory=True)\n",
        "except FileExistsError:\n",
        "  pass\n",
        "try:\n",
        "  os.symlink(KAGGLE_WORKING_PATH, os.path.join(\"..\", 'working'), target_is_directory=True)\n",
        "except FileExistsError:\n",
        "  pass\n",
        "\n",
        "for data_source_mapping in DATA_SOURCE_MAPPING.split(','):\n",
        "    directory, download_url_encoded = data_source_mapping.split(':')\n",
        "    download_url = unquote(download_url_encoded)\n",
        "    filename = urlparse(download_url).path\n",
        "    destination_path = os.path.join(KAGGLE_INPUT_PATH, directory)\n",
        "    try:\n",
        "        with urlopen(download_url) as fileres, NamedTemporaryFile() as tfile:\n",
        "            total_length = fileres.headers['content-length']\n",
        "            print(f'Downloading {directory}, {total_length} bytes compressed')\n",
        "            dl = 0\n",
        "            data = fileres.read(CHUNK_SIZE)\n",
        "            while len(data) > 0:\n",
        "                dl += len(data)\n",
        "                tfile.write(data)\n",
        "                done = int(50 * dl / int(total_length))\n",
        "                sys.stdout.write(f\"\\r[{'=' * done}{' ' * (50-done)}] {dl} bytes downloaded\")\n",
        "                sys.stdout.flush()\n",
        "                data = fileres.read(CHUNK_SIZE)\n",
        "            if filename.endswith('.zip'):\n",
        "              with ZipFile(tfile) as zfile:\n",
        "                zfile.extractall(destination_path)\n",
        "            else:\n",
        "              with tarfile.open(tfile.name) as tarfile:\n",
        "                tarfile.extractall(destination_path)\n",
        "            print(f'\\nDownloaded and uncompressed: {directory}')\n",
        "    except HTTPError as e:\n",
        "        print(f'Failed to load (likely expired) {download_url} to path {destination_path}')\n",
        "        continue\n",
        "    except OSError as e:\n",
        "        print(f'Failed to load {download_url} to path {destination_path}')\n",
        "        continue\n",
        "\n",
        "print('Data source import complete.')\n"
      ],
      "metadata": {
        "id": "QsaPFb4qaPjR"
      },
      "cell_type": "code",
      "outputs": [],
      "execution_count": null
    },
    {
      "cell_type": "code",
      "source": [
        "# This Python 3 environment comes with many helpful analytics libraries installed\n",
        "# It is defined by the kaggle/python Docker image: https://github.com/kaggle/docker-python\n",
        "# For example, here's several helpful packages to load\n",
        "\n",
        "import numpy as np # linear algebra\n",
        "import pandas as pd # data processing, CSV file I/O (e.g. pd.read_csv)\n",
        "\n",
        "# Input data files are available in the read-only \"../input/\" directory\n",
        "# For example, running this (by clicking run or pressing Shift+Enter) will list all files under the input directory\n",
        "\n",
        "import os\n",
        "for dirname, _, filenames in os.walk('/kaggle/input'):\n",
        "    for filename in filenames:\n",
        "        print(os.path.join(dirname, filename))\n",
        "\n",
        "# You can write up to 20GB to the current directory (/kaggle/working/) that gets preserved as output when you create a version using \"Save & Run All\"\n",
        "# You can also write temporary files to /kaggle/temp/, but they won't be saved outside of the current session"
      ],
      "metadata": {
        "_uuid": "8f2839f25d086af736a60e9eeb907d3b93b6e0e5",
        "_cell_guid": "b1076dfc-b9ad-4769-8c92-a6c4dae69d19",
        "execution": {
          "iopub.status.busy": "2024-03-04T02:05:18.396753Z",
          "iopub.execute_input": "2024-03-04T02:05:18.39703Z",
          "iopub.status.idle": "2024-03-04T02:05:19.905265Z",
          "shell.execute_reply.started": "2024-03-04T02:05:18.397004Z",
          "shell.execute_reply": "2024-03-04T02:05:19.904008Z"
        },
        "trusted": true,
        "id": "Wj5KN12gaPjq",
        "outputId": "2141cc60-809a-4601-fef9-63582d06b8a2"
      },
      "execution_count": null,
      "outputs": [
        {
          "name": "stdout",
          "text": "/kaggle/input/shape-predictor-68-face-landmarksdat/shape_predictor_68_face_landmarks.dat\n/kaggle/input/yolov3-weights/yolov3.weights\n/kaggle/input/coconames/coco.names\n/kaggle/input/drowsy-festure/Extract features.csv\n/kaggle/input/uta-reallife-drowsiness-dataset/Fold4_part2/Fold4_part2/47/5.mp4\n/kaggle/input/uta-reallife-drowsiness-dataset/Fold4_part2/Fold4_part2/47/10.mp4\n/kaggle/input/uta-reallife-drowsiness-dataset/Fold4_part2/Fold4_part2/47/0.mp4\n/kaggle/input/uta-reallife-drowsiness-dataset/Fold4_part2/Fold4_part2/45/5.mp4\n/kaggle/input/uta-reallife-drowsiness-dataset/Fold4_part2/Fold4_part2/45/10.mp4\n/kaggle/input/uta-reallife-drowsiness-dataset/Fold4_part2/Fold4_part2/45/0.mp4\n/kaggle/input/uta-reallife-drowsiness-dataset/Fold4_part2/Fold4_part2/42/5.mp4\n/kaggle/input/uta-reallife-drowsiness-dataset/Fold4_part2/Fold4_part2/42/10.mp4\n/kaggle/input/uta-reallife-drowsiness-dataset/Fold4_part2/Fold4_part2/42/0.mp4\n/kaggle/input/uta-reallife-drowsiness-dataset/Fold4_part2/Fold4_part2/43/5.mp4\n/kaggle/input/uta-reallife-drowsiness-dataset/Fold4_part2/Fold4_part2/43/10.mov\n/kaggle/input/uta-reallife-drowsiness-dataset/Fold4_part2/Fold4_part2/43/0.mov\n/kaggle/input/uta-reallife-drowsiness-dataset/Fold4_part2/Fold4_part2/46/10.mov\n/kaggle/input/uta-reallife-drowsiness-dataset/Fold4_part2/Fold4_part2/46/5.m4v\n/kaggle/input/uta-reallife-drowsiness-dataset/Fold4_part2/Fold4_part2/46/0.m4v\n/kaggle/input/uta-reallife-drowsiness-dataset/Fold4_part2/Fold4_part2/44/10.mov\n/kaggle/input/uta-reallife-drowsiness-dataset/Fold4_part2/Fold4_part2/44/0.mov\n/kaggle/input/uta-reallife-drowsiness-dataset/Fold4_part2/Fold4_part2/44/5.mov\n/kaggle/input/uta-reallife-drowsiness-dataset/Fold4_part2/Fold4_part2/48/10.MOV\n/kaggle/input/uta-reallife-drowsiness-dataset/Fold4_part2/Fold4_part2/48/0.MOV\n/kaggle/input/uta-reallife-drowsiness-dataset/Fold4_part2/Fold4_part2/48/5.MOV\n/kaggle/input/uta-reallife-drowsiness-dataset/Fold3_part1/Fold3_part1/27/10.MOV\n/kaggle/input/uta-reallife-drowsiness-dataset/Fold3_part1/Fold3_part1/27/0.MOV\n/kaggle/input/uta-reallife-drowsiness-dataset/Fold3_part1/Fold3_part1/27/5.MOV\n/kaggle/input/uta-reallife-drowsiness-dataset/Fold3_part1/Fold3_part1/25/5.mp4\n/kaggle/input/uta-reallife-drowsiness-dataset/Fold3_part1/Fold3_part1/25/10.mp4\n/kaggle/input/uta-reallife-drowsiness-dataset/Fold3_part1/Fold3_part1/25/0.mp4\n/kaggle/input/uta-reallife-drowsiness-dataset/Fold3_part1/Fold3_part1/28/10.MOV\n/kaggle/input/uta-reallife-drowsiness-dataset/Fold3_part1/Fold3_part1/28/0.MOV\n/kaggle/input/uta-reallife-drowsiness-dataset/Fold3_part1/Fold3_part1/28/5.MOV\n/kaggle/input/uta-reallife-drowsiness-dataset/Fold3_part1/Fold3_part1/26/5.mp4\n/kaggle/input/uta-reallife-drowsiness-dataset/Fold3_part1/Fold3_part1/26/10.mp4\n/kaggle/input/uta-reallife-drowsiness-dataset/Fold3_part1/Fold3_part1/26/0.mp4\n/kaggle/input/uta-reallife-drowsiness-dataset/Fold3_part1/Fold3_part1/30/5.mp4\n/kaggle/input/uta-reallife-drowsiness-dataset/Fold3_part1/Fold3_part1/30/10.mp4\n/kaggle/input/uta-reallife-drowsiness-dataset/Fold3_part1/Fold3_part1/30/0.mp4\n/kaggle/input/uta-reallife-drowsiness-dataset/Fold3_part1/Fold3_part1/29/5.mp4\n/kaggle/input/uta-reallife-drowsiness-dataset/Fold3_part1/Fold3_part1/29/10.mp4\n/kaggle/input/uta-reallife-drowsiness-dataset/Fold3_part1/Fold3_part1/29/0.mp4\n/kaggle/input/uta-reallife-drowsiness-dataset/Fold2_part2/Fold2_part2/19/10.MOV\n/kaggle/input/uta-reallife-drowsiness-dataset/Fold2_part2/Fold2_part2/19/0.MOV\n/kaggle/input/uta-reallife-drowsiness-dataset/Fold2_part2/Fold2_part2/19/5.MOV\n/kaggle/input/uta-reallife-drowsiness-dataset/Fold2_part2/Fold2_part2/22/10.MOV\n/kaggle/input/uta-reallife-drowsiness-dataset/Fold2_part2/Fold2_part2/22/0.MOV\n/kaggle/input/uta-reallife-drowsiness-dataset/Fold2_part2/Fold2_part2/22/5.MOV\n/kaggle/input/uta-reallife-drowsiness-dataset/Fold2_part2/Fold2_part2/23/5.mp4\n/kaggle/input/uta-reallife-drowsiness-dataset/Fold2_part2/Fold2_part2/23/10.mp4\n/kaggle/input/uta-reallife-drowsiness-dataset/Fold2_part2/Fold2_part2/23/0.mp4\n/kaggle/input/uta-reallife-drowsiness-dataset/Fold2_part2/Fold2_part2/20/10.mp4\n/kaggle/input/uta-reallife-drowsiness-dataset/Fold2_part2/Fold2_part2/20/0.mp4\n/kaggle/input/uta-reallife-drowsiness-dataset/Fold2_part2/Fold2_part2/20/5.MOV\n/kaggle/input/uta-reallife-drowsiness-dataset/Fold2_part2/Fold2_part2/21/10.MOV\n/kaggle/input/uta-reallife-drowsiness-dataset/Fold2_part2/Fold2_part2/21/0.MOV\n/kaggle/input/uta-reallife-drowsiness-dataset/Fold2_part2/Fold2_part2/21/5.MOV\n/kaggle/input/uta-reallife-drowsiness-dataset/Fold2_part2/Fold2_part2/24/5.mp4\n/kaggle/input/uta-reallife-drowsiness-dataset/Fold2_part2/Fold2_part2/24/10.mp4\n/kaggle/input/uta-reallife-drowsiness-dataset/Fold2_part2/Fold2_part2/24/0.mp4\n/kaggle/input/uta-reallife-drowsiness-dataset/Fold1_part2/Fold1_part2/07/5.mp4\n/kaggle/input/uta-reallife-drowsiness-dataset/Fold1_part2/Fold1_part2/07/10.mp4\n/kaggle/input/uta-reallife-drowsiness-dataset/Fold1_part2/Fold1_part2/07/0.mp4\n/kaggle/input/uta-reallife-drowsiness-dataset/Fold1_part2/Fold1_part2/10/10.MOV\n/kaggle/input/uta-reallife-drowsiness-dataset/Fold1_part2/Fold1_part2/10/0.MOV\n/kaggle/input/uta-reallife-drowsiness-dataset/Fold1_part2/Fold1_part2/10/5.MOV\n/kaggle/input/uta-reallife-drowsiness-dataset/Fold1_part2/Fold1_part2/12/5.mp4\n/kaggle/input/uta-reallife-drowsiness-dataset/Fold1_part2/Fold1_part2/12/10.mp4\n/kaggle/input/uta-reallife-drowsiness-dataset/Fold1_part2/Fold1_part2/12/0.mp4\n/kaggle/input/uta-reallife-drowsiness-dataset/Fold1_part2/Fold1_part2/08/5.mp4\n/kaggle/input/uta-reallife-drowsiness-dataset/Fold1_part2/Fold1_part2/08/10.mp4\n/kaggle/input/uta-reallife-drowsiness-dataset/Fold1_part2/Fold1_part2/08/0.mp4\n/kaggle/input/uta-reallife-drowsiness-dataset/Fold1_part2/Fold1_part2/09/5.mp4\n/kaggle/input/uta-reallife-drowsiness-dataset/Fold1_part2/Fold1_part2/09/10.mp4\n/kaggle/input/uta-reallife-drowsiness-dataset/Fold1_part2/Fold1_part2/09/0.mp4\n/kaggle/input/uta-reallife-drowsiness-dataset/Fold1_part2/Fold1_part2/11/5.mp4\n/kaggle/input/uta-reallife-drowsiness-dataset/Fold1_part2/Fold1_part2/11/10.mp4\n/kaggle/input/uta-reallife-drowsiness-dataset/Fold1_part2/Fold1_part2/11/0.mp4\n/kaggle/input/uta-reallife-drowsiness-dataset/Fold1_part1/Fold1_part1/05/10.MOV\n/kaggle/input/uta-reallife-drowsiness-dataset/Fold1_part1/Fold1_part1/05/0.MOV\n/kaggle/input/uta-reallife-drowsiness-dataset/Fold1_part1/Fold1_part1/05/5.MOV\n/kaggle/input/uta-reallife-drowsiness-dataset/Fold1_part1/Fold1_part1/06/5.mp4\n/kaggle/input/uta-reallife-drowsiness-dataset/Fold1_part1/Fold1_part1/06/10.mp4\n/kaggle/input/uta-reallife-drowsiness-dataset/Fold1_part1/Fold1_part1/06/0.mp4\n/kaggle/input/uta-reallife-drowsiness-dataset/Fold1_part1/Fold1_part1/02/10.MOV\n/kaggle/input/uta-reallife-drowsiness-dataset/Fold1_part1/Fold1_part1/02/0.mov\n/kaggle/input/uta-reallife-drowsiness-dataset/Fold1_part1/Fold1_part1/02/5.MOV\n/kaggle/input/uta-reallife-drowsiness-dataset/Fold1_part1/Fold1_part1/04/5.mp4\n/kaggle/input/uta-reallife-drowsiness-dataset/Fold1_part1/Fold1_part1/04/10.mp4\n/kaggle/input/uta-reallife-drowsiness-dataset/Fold1_part1/Fold1_part1/04/0.mp4\n/kaggle/input/uta-reallife-drowsiness-dataset/Fold1_part1/Fold1_part1/03/10.mov\n/kaggle/input/uta-reallife-drowsiness-dataset/Fold1_part1/Fold1_part1/03/0.MOV\n/kaggle/input/uta-reallife-drowsiness-dataset/Fold1_part1/Fold1_part1/03/5.mov\n/kaggle/input/uta-reallife-drowsiness-dataset/Fold1_part1/Fold1_part1/01/10.MOV\n/kaggle/input/uta-reallife-drowsiness-dataset/Fold1_part1/Fold1_part1/01/0.mov\n/kaggle/input/uta-reallife-drowsiness-dataset/Fold1_part1/Fold1_part1/01/5.mov\n/kaggle/input/uta-reallife-drowsiness-dataset/Fold3_part2/Fold3_part2/35/5.mp4\n/kaggle/input/uta-reallife-drowsiness-dataset/Fold3_part2/Fold3_part2/35/10.mp4\n/kaggle/input/uta-reallife-drowsiness-dataset/Fold3_part2/Fold3_part2/35/0.mp4\n/kaggle/input/uta-reallife-drowsiness-dataset/Fold3_part2/Fold3_part2/36/5.mp4\n/kaggle/input/uta-reallife-drowsiness-dataset/Fold3_part2/Fold3_part2/36/10.mp4\n/kaggle/input/uta-reallife-drowsiness-dataset/Fold3_part2/Fold3_part2/36/0.mp4\n/kaggle/input/uta-reallife-drowsiness-dataset/Fold3_part2/Fold3_part2/32/5.mp4\n/kaggle/input/uta-reallife-drowsiness-dataset/Fold3_part2/Fold3_part2/32/10_1.mp4\n/kaggle/input/uta-reallife-drowsiness-dataset/Fold3_part2/Fold3_part2/32/0.mp4\n/kaggle/input/uta-reallife-drowsiness-dataset/Fold3_part2/Fold3_part2/32/10_2.mp4\n/kaggle/input/uta-reallife-drowsiness-dataset/Fold3_part2/Fold3_part2/31/5.mp4\n/kaggle/input/uta-reallife-drowsiness-dataset/Fold3_part2/Fold3_part2/31/10.mp4\n/kaggle/input/uta-reallife-drowsiness-dataset/Fold3_part2/Fold3_part2/31/0.mp4\n/kaggle/input/uta-reallife-drowsiness-dataset/Fold3_part2/Fold3_part2/34/10.mp4\n/kaggle/input/uta-reallife-drowsiness-dataset/Fold3_part2/Fold3_part2/34/0.mov\n/kaggle/input/uta-reallife-drowsiness-dataset/Fold3_part2/Fold3_part2/34/5.mov\n/kaggle/input/uta-reallife-drowsiness-dataset/Fold3_part2/Fold3_part2/33/5.mp4\n/kaggle/input/uta-reallife-drowsiness-dataset/Fold3_part2/Fold3_part2/33/10.mp4\n/kaggle/input/uta-reallife-drowsiness-dataset/Fold3_part2/Fold3_part2/33/0.mp4\n/kaggle/input/uta-reallife-drowsiness-dataset/Fold4_part1/Fold4_part1/41/5.mp4\n/kaggle/input/uta-reallife-drowsiness-dataset/Fold4_part1/Fold4_part1/41/10.MOV\n/kaggle/input/uta-reallife-drowsiness-dataset/Fold4_part1/Fold4_part1/41/0.MP4\n/kaggle/input/uta-reallife-drowsiness-dataset/Fold4_part1/Fold4_part1/39/10.MOV\n/kaggle/input/uta-reallife-drowsiness-dataset/Fold4_part1/Fold4_part1/39/0.MP4\n/kaggle/input/uta-reallife-drowsiness-dataset/Fold4_part1/Fold4_part1/39/5.MOV\n/kaggle/input/uta-reallife-drowsiness-dataset/Fold4_part1/Fold4_part1/38/5.mp4\n/kaggle/input/uta-reallife-drowsiness-dataset/Fold4_part1/Fold4_part1/38/10.mp4\n/kaggle/input/uta-reallife-drowsiness-dataset/Fold4_part1/Fold4_part1/38/0.mp4\n/kaggle/input/uta-reallife-drowsiness-dataset/Fold4_part1/Fold4_part1/40/5.mp4\n/kaggle/input/uta-reallife-drowsiness-dataset/Fold4_part1/Fold4_part1/40/10.mp4\n/kaggle/input/uta-reallife-drowsiness-dataset/Fold4_part1/Fold4_part1/40/0.mp4\n/kaggle/input/uta-reallife-drowsiness-dataset/Fold4_part1/Fold4_part1/37/10.mov\n/kaggle/input/uta-reallife-drowsiness-dataset/Fold4_part1/Fold4_part1/37/0.mov\n/kaggle/input/uta-reallife-drowsiness-dataset/Fold4_part1/Fold4_part1/37/5.mov\n/kaggle/input/uta-reallife-drowsiness-dataset/Fold2_part1/Fold2_part1/17/5.mp4\n/kaggle/input/uta-reallife-drowsiness-dataset/Fold2_part1/Fold2_part1/17/10.mp4\n/kaggle/input/uta-reallife-drowsiness-dataset/Fold2_part1/Fold2_part1/17/0.mp4\n/kaggle/input/uta-reallife-drowsiness-dataset/Fold2_part1/Fold2_part1/18/10.mov\n/kaggle/input/uta-reallife-drowsiness-dataset/Fold2_part1/Fold2_part1/18/0.mov\n/kaggle/input/uta-reallife-drowsiness-dataset/Fold2_part1/Fold2_part1/18/5.mov\n/kaggle/input/uta-reallife-drowsiness-dataset/Fold2_part1/Fold2_part1/16/10.MOV\n/kaggle/input/uta-reallife-drowsiness-dataset/Fold2_part1/Fold2_part1/16/0.MOV\n/kaggle/input/uta-reallife-drowsiness-dataset/Fold2_part1/Fold2_part1/16/5.MOV\n/kaggle/input/uta-reallife-drowsiness-dataset/Fold2_part1/Fold2_part1/13/5.mp4\n/kaggle/input/uta-reallife-drowsiness-dataset/Fold2_part1/Fold2_part1/13/10.mp4\n/kaggle/input/uta-reallife-drowsiness-dataset/Fold2_part1/Fold2_part1/13/0.mp4\n/kaggle/input/uta-reallife-drowsiness-dataset/Fold2_part1/Fold2_part1/15/5.mp4\n/kaggle/input/uta-reallife-drowsiness-dataset/Fold2_part1/Fold2_part1/15/10.mp4\n/kaggle/input/uta-reallife-drowsiness-dataset/Fold2_part1/Fold2_part1/15/0.mp4\n/kaggle/input/uta-reallife-drowsiness-dataset/Fold2_part1/Fold2_part1/14/5.mp4\n/kaggle/input/uta-reallife-drowsiness-dataset/Fold2_part1/Fold2_part1/14/10.mp4\n/kaggle/input/uta-reallife-drowsiness-dataset/Fold2_part1/Fold2_part1/14/0.mp4\n",
          "output_type": "stream"
        }
      ]
    },
    {
      "cell_type": "code",
      "source": [],
      "metadata": {
        "trusted": true,
        "id": "H2LimJ-KaPjv"
      },
      "execution_count": null,
      "outputs": []
    },
    {
      "cell_type": "code",
      "source": [
        "!pip install dlib"
      ],
      "metadata": {
        "execution": {
          "iopub.status.busy": "2024-02-26T06:26:52.844413Z",
          "iopub.execute_input": "2024-02-26T06:26:52.845393Z",
          "iopub.status.idle": "2024-02-26T06:35:13.50475Z",
          "shell.execute_reply.started": "2024-02-26T06:26:52.84536Z",
          "shell.execute_reply": "2024-02-26T06:35:13.503552Z"
        },
        "trusted": true,
        "id": "ybOzAve4aPjx",
        "outputId": "1e3e2667-6320-4bbc-f129-fbeba1c55c97"
      },
      "execution_count": null,
      "outputs": [
        {
          "name": "stdout",
          "text": "Collecting dlib\n  Downloading dlib-19.24.2.tar.gz (11.8 MB)\n\u001b[2K     \u001b[90m━━━━━━━━━━━━━━━━━━━━━━━━━━━━━━━━━━━━━━━━\u001b[0m \u001b[32m11.8/11.8 MB\u001b[0m \u001b[31m53.2 MB/s\u001b[0m eta \u001b[36m0:00:00\u001b[0m00:01\u001b[0m0:01\u001b[0m\n\u001b[?25h  Installing build dependencies ... \u001b[?25ldone\n\u001b[?25h  Getting requirements to build wheel ... \u001b[?25ldone\n\u001b[?25h  Preparing metadata (pyproject.toml) ... \u001b[?25ldone\n\u001b[?25hBuilding wheels for collected packages: dlib\n  Building wheel for dlib (pyproject.toml) ... \u001b[?25ldone\n\u001b[?25h  Created wheel for dlib: filename=dlib-19.24.2-cp310-cp310-linux_x86_64.whl size=3301369 sha256=8f1c1ccf84d6242700adde70298ef0139624bd0fac7abc7e2892073e4ae2cf25\n  Stored in directory: /root/.cache/pip/wheels/9b/e2/80/888fdc098db86b463ff0c83ae5e5ca151889e901bc1e9a3a11\nSuccessfully built dlib\nInstalling collected packages: dlib\nSuccessfully installed dlib-19.24.2\n",
          "output_type": "stream"
        }
      ]
    },
    {
      "cell_type": "code",
      "source": [],
      "metadata": {
        "trusted": true,
        "id": "QEkgTqmOaPjz"
      },
      "execution_count": null,
      "outputs": []
    },
    {
      "cell_type": "code",
      "source": [],
      "metadata": {
        "trusted": true,
        "id": "5cZGO3QDaPj0"
      },
      "execution_count": null,
      "outputs": []
    },
    {
      "cell_type": "markdown",
      "source": [
        "# # feature extraction"
      ],
      "metadata": {
        "id": "O4C22kgtaPj1"
      }
    },
    {
      "cell_type": "code",
      "source": [
        "import cv2\n",
        "import dlib\n",
        "import numpy as np\n",
        "import pandas as pd\n",
        "\n",
        "# Load the pre-trained face detector from dlib\n",
        "detector = dlib.get_frontal_face_detector()\n",
        "\n",
        "# Load the facial landmarks predictor\n",
        "# Replace the path with the correct location of your shape_predictor_68_face_landmarks.dat file\n",
        "predictor = dlib.shape_predictor(\"/kaggle/input/shape-predictor-68-face-landmarksdat/shape_predictor_68_face_landmarks.dat\")\n",
        "\n",
        "# Function to calculate EAR\n",
        "def eye_aspect_ratio(eye):\n",
        "    x = [point.x for point in eye]\n",
        "    y = [point.y for point in eye]\n",
        "    A = np.linalg.norm(np.array([x[1] - x[5], y[1] - y[5]]))\n",
        "    B = np.linalg.norm(np.array([x[2] - x[4], y[2] - y[4]]))\n",
        "    C = np.linalg.norm(np.array([x[0] - x[3], y[0] - y[3]]))\n",
        "    ear = (A + B) / (2.0 * C)\n",
        "    return ear\n",
        "\n",
        "# Function to calculate PUC\n",
        "def pupil_to_eye_center_distance(eye):\n",
        "    x = [point.x for point in eye]\n",
        "    y = [point.y for point in eye]\n",
        "    d = np.linalg.norm(np.array([x[0] - x[3], y[0] - y[3]]))\n",
        "    return d\n",
        "\n",
        "# Function to calculate MAR\n",
        "def mouth_aspect_ratio(mouth):\n",
        "    x = [point.x for point in mouth]\n",
        "    y = [point.y for point in mouth]\n",
        "    A = np.linalg.norm(np.array([x[13] - x[19], y[13] - y[19]]))\n",
        "    B = np.linalg.norm(np.array([x[14] - x[18], y[14] - y[18]]))\n",
        "    C = np.linalg.norm(np.array([x[15] - x[17], y[15] - y[17]]))\n",
        "    mar = (A + B + C) / (3.0 * np.linalg.norm(np.array([x[12] - x[16], y[12] - y[16]])))\n",
        "    return mar\n",
        "\n",
        "# Function to calculate MOE\n",
        "def mouth_to_eye_ratio(eye, mouth):\n",
        "    ear = eye_aspect_ratio(eye)\n",
        "    mar = mouth_aspect_ratio(mouth)\n",
        "    if ear == 0:  # Avoid division by zero\n",
        "        return 0\n",
        "    moe = mar / ear\n",
        "    return moe\n",
        "\n",
        "# Function to extract features and label from a frame\n",
        "def extract_features(frame):\n",
        "    gray = cv2.cvtColor(frame, cv2.COLOR_BGR2GRAY)\n",
        "\n",
        "    # Detect faces in the grayscale frame\n",
        "    faces = detector(gray)\n",
        "\n",
        "    features = []\n",
        "    labels = []\n",
        "\n",
        "    for face in faces:\n",
        "        # Predict the facial landmarks\n",
        "        shape = predictor(gray, face)\n",
        "\n",
        "        # Calculate EAR, PUC, MAR, and MOE\n",
        "        ear = eye_aspect_ratio(shape.parts()[36:42])\n",
        "        puc = pupil_to_eye_center_distance(shape.parts()[3642])\n",
        "        mar = mouth_aspect_ratio(shape.parts()[48:68])\n",
        "        moe = mouth_to_eye_ratio(shape.parts()[36:42], shape.parts()[48:68])\n",
        "\n",
        "        # Define your condition for drowsiness detection\n",
        "        # For example, if EAR is below a certain threshold, and MAR and PUC are also below thresholds, consider it as drowsy\n",
        "        drowsy = 1 if ear < 0.2 or mar > 0.4 or puc < 70 or moe > 0.2 else 0\n",
        "\n",
        "        # Append features and label to the lists\n",
        "        features.append([ear, puc, mar, moe])\n",
        "        labels.append(drowsy)\n",
        "\n",
        "    return features, labels\n",
        "\n",
        "# Directory containing UTA dataset video\n",
        "uta_dataset_video_path = \"/kaggle/input/uta-reallife-drowsiness-dataset/Fold1_part1/Fold1_part1/01/0.mov\"\n",
        "\n",
        "# Open video capture\n",
        "cap = cv2.VideoCapture(uta_dataset_video_path)\n",
        "\n",
        "all_features = []\n",
        "all_labels = []\n",
        "\n",
        "# Frame skipping configuration\n",
        "frame_skip = 5  # Process every 5th frame\n",
        "counter = 0\n",
        "\n",
        "# Read frames from the video\n",
        "while cap.isOpened():\n",
        "    ret, frame = cap.read()\n",
        "\n",
        "    if not ret:\n",
        "        break\n",
        "\n",
        "    counter += 1\n",
        "    if counter % frame_skip != 0:\n",
        "        continue\n",
        "\n",
        "    # Extract features and label from the current frame\n",
        "    features, labels = extract_features(frame)\n",
        "    all_features.extend(features)\n",
        "    all_labels.extend(labels)\n",
        "\n",
        "# Release the video capture object\n",
        "cap.release()\n",
        "\n",
        "# Convert the lists of features and labels to a DataFrame\n",
        "column_names = [\"EAR\", \"PUC\", \"MAR\", \"MOE\"]\n",
        "df_features = pd.DataFrame(all_features, columns=column_names)\n",
        "df_labels = pd.DataFrame({\"drowsy\": all_labels})\n",
        "\n",
        "# Concatenate features and labels DataFrames\n",
        "df = pd.concat([df_features, df_labels], axis=1)\n",
        "\n",
        "# Display the DataFrame with extracted features and labels\n",
        "print(df)\n"
      ],
      "metadata": {
        "execution": {
          "iopub.status.busy": "2024-01-21T09:13:48.369692Z",
          "iopub.execute_input": "2024-01-21T09:13:48.370069Z",
          "iopub.status.idle": "2024-01-21T09:29:50.36525Z",
          "shell.execute_reply.started": "2024-01-21T09:13:48.370034Z",
          "shell.execute_reply": "2024-01-21T09:29:50.364218Z"
        },
        "trusted": true,
        "id": "6FBDYNjqaPj9"
      },
      "execution_count": null,
      "outputs": []
    },
    {
      "cell_type": "code",
      "source": [],
      "metadata": {
        "trusted": true,
        "id": "H3_hN7MFaPkB"
      },
      "execution_count": null,
      "outputs": []
    },
    {
      "cell_type": "code",
      "source": [
        "csv_file_path = '/kaggle/input/drowsy-festure/Extract features.csv'\n",
        "# Save the DataFrame to a CSV file\n",
        "# Read the CSV file into a DataFrame\n",
        "df = pd.read_csv(csv_file_path)\n",
        "\n",
        "# Now you can work with your DataFrame\n",
        "# For example, you can print the first few rows of the DataFrame\n",
        "print(df.head())\n",
        "\n",
        "\n"
      ],
      "metadata": {
        "execution": {
          "iopub.status.busy": "2024-03-04T02:05:29.957747Z",
          "iopub.execute_input": "2024-03-04T02:05:29.958223Z",
          "iopub.status.idle": "2024-03-04T02:05:29.992982Z",
          "shell.execute_reply.started": "2024-03-04T02:05:29.958194Z",
          "shell.execute_reply": "2024-03-04T02:05:29.992065Z"
        },
        "trusted": true,
        "id": "xNLbeaAuaPkC",
        "outputId": "e2715d06-27ae-451c-9ceb-c6808ab4104e"
      },
      "execution_count": null,
      "outputs": [
        {
          "name": "stdout",
          "text": "        EAR        PUC       MAR       MOE  drowsy\n0  0.289598  76.006579  0.081149  0.280211       1\n1  0.298701  77.000000  0.089677  0.300222       1\n2  0.306356  80.006250  0.053830  0.175710       0\n3  0.325139  80.024996  0.029812  0.091689       0\n4  0.356792  80.000000  0.009103  0.025515       0\n",
          "output_type": "stream"
        }
      ]
    },
    {
      "cell_type": "code",
      "source": [
        "df.drop(['PUC', 'MOE'], axis=1, inplace=True)\n"
      ],
      "metadata": {
        "execution": {
          "iopub.status.busy": "2024-03-04T02:05:34.357726Z",
          "iopub.execute_input": "2024-03-04T02:05:34.358102Z",
          "iopub.status.idle": "2024-03-04T02:05:34.368455Z",
          "shell.execute_reply.started": "2024-03-04T02:05:34.358049Z",
          "shell.execute_reply": "2024-03-04T02:05:34.367511Z"
        },
        "trusted": true,
        "id": "LfdxcsnsaPkF"
      },
      "execution_count": null,
      "outputs": []
    },
    {
      "cell_type": "code",
      "source": [
        "df"
      ],
      "metadata": {
        "execution": {
          "iopub.status.busy": "2024-03-04T02:05:37.314157Z",
          "iopub.execute_input": "2024-03-04T02:05:37.314501Z",
          "iopub.status.idle": "2024-03-04T02:05:37.330142Z",
          "shell.execute_reply.started": "2024-03-04T02:05:37.314472Z",
          "shell.execute_reply": "2024-03-04T02:05:37.329078Z"
        },
        "trusted": true,
        "id": "TE07kJ5jaPkG",
        "outputId": "12719019-9fae-41c4-a73d-59d0aa69943c"
      },
      "execution_count": null,
      "outputs": [
        {
          "execution_count": 4,
          "output_type": "execute_result",
          "data": {
            "text/plain": "           EAR       MAR  drowsy\n0     0.289598  0.081149       1\n1     0.298701  0.089677       1\n2     0.306356  0.053830       0\n3     0.325139  0.029812       0\n4     0.356792  0.009103       0\n...        ...       ...     ...\n3604  0.298051  0.024935       0\n3605  0.308263  0.006100       0\n3606  0.312387  0.010434       0\n3607  0.326263  0.011578       0\n3608  0.313997  0.008488       0\n\n[3609 rows x 3 columns]",
            "text/html": "<div>\n<style scoped>\n    .dataframe tbody tr th:only-of-type {\n        vertical-align: middle;\n    }\n\n    .dataframe tbody tr th {\n        vertical-align: top;\n    }\n\n    .dataframe thead th {\n        text-align: right;\n    }\n</style>\n<table border=\"1\" class=\"dataframe\">\n  <thead>\n    <tr style=\"text-align: right;\">\n      <th></th>\n      <th>EAR</th>\n      <th>MAR</th>\n      <th>drowsy</th>\n    </tr>\n  </thead>\n  <tbody>\n    <tr>\n      <th>0</th>\n      <td>0.289598</td>\n      <td>0.081149</td>\n      <td>1</td>\n    </tr>\n    <tr>\n      <th>1</th>\n      <td>0.298701</td>\n      <td>0.089677</td>\n      <td>1</td>\n    </tr>\n    <tr>\n      <th>2</th>\n      <td>0.306356</td>\n      <td>0.053830</td>\n      <td>0</td>\n    </tr>\n    <tr>\n      <th>3</th>\n      <td>0.325139</td>\n      <td>0.029812</td>\n      <td>0</td>\n    </tr>\n    <tr>\n      <th>4</th>\n      <td>0.356792</td>\n      <td>0.009103</td>\n      <td>0</td>\n    </tr>\n    <tr>\n      <th>...</th>\n      <td>...</td>\n      <td>...</td>\n      <td>...</td>\n    </tr>\n    <tr>\n      <th>3604</th>\n      <td>0.298051</td>\n      <td>0.024935</td>\n      <td>0</td>\n    </tr>\n    <tr>\n      <th>3605</th>\n      <td>0.308263</td>\n      <td>0.006100</td>\n      <td>0</td>\n    </tr>\n    <tr>\n      <th>3606</th>\n      <td>0.312387</td>\n      <td>0.010434</td>\n      <td>0</td>\n    </tr>\n    <tr>\n      <th>3607</th>\n      <td>0.326263</td>\n      <td>0.011578</td>\n      <td>0</td>\n    </tr>\n    <tr>\n      <th>3608</th>\n      <td>0.313997</td>\n      <td>0.008488</td>\n      <td>0</td>\n    </tr>\n  </tbody>\n</table>\n<p>3609 rows × 3 columns</p>\n</div>"
          },
          "metadata": {}
        }
      ]
    },
    {
      "cell_type": "code",
      "source": [
        "df = pd.concat([df, df_drowsy], ignore_index=True)"
      ],
      "metadata": {
        "execution": {
          "iopub.status.busy": "2024-03-04T02:20:28.692669Z",
          "iopub.execute_input": "2024-03-04T02:20:28.693537Z",
          "iopub.status.idle": "2024-03-04T02:20:28.698768Z",
          "shell.execute_reply.started": "2024-03-04T02:20:28.693504Z",
          "shell.execute_reply": "2024-03-04T02:20:28.697766Z"
        },
        "trusted": true,
        "id": "bcDJAfqzaPkI"
      },
      "execution_count": null,
      "outputs": []
    },
    {
      "cell_type": "code",
      "source": [
        "df = pd.concat([df, df_drowsy], ignore_index=True)"
      ],
      "metadata": {
        "execution": {
          "iopub.status.busy": "2024-03-04T02:22:34.106267Z",
          "iopub.execute_input": "2024-03-04T02:22:34.106749Z",
          "iopub.status.idle": "2024-03-04T02:22:34.112611Z",
          "shell.execute_reply.started": "2024-03-04T02:22:34.106713Z",
          "shell.execute_reply": "2024-03-04T02:22:34.111635Z"
        },
        "trusted": true,
        "id": "eexvP0yCaPkL"
      },
      "execution_count": null,
      "outputs": []
    },
    {
      "cell_type": "code",
      "source": [
        "df.info()"
      ],
      "metadata": {
        "execution": {
          "iopub.status.busy": "2024-03-04T02:20:31.146149Z",
          "iopub.execute_input": "2024-03-04T02:20:31.146964Z",
          "iopub.status.idle": "2024-03-04T02:20:31.157006Z",
          "shell.execute_reply.started": "2024-03-04T02:20:31.146931Z",
          "shell.execute_reply": "2024-03-04T02:20:31.156016Z"
        },
        "trusted": true,
        "id": "Wt0gtHELaPkM",
        "outputId": "1056d3b3-2075-4136-db8f-30486b3ea61d"
      },
      "execution_count": null,
      "outputs": [
        {
          "name": "stdout",
          "text": "<class 'pandas.core.frame.DataFrame'>\nRangeIndex: 5219 entries, 0 to 5218\nData columns (total 3 columns):\n #   Column  Non-Null Count  Dtype  \n---  ------  --------------  -----  \n 0   EAR     5219 non-null   float64\n 1   MAR     5219 non-null   float64\n 2   drowsy  5219 non-null   int64  \ndtypes: float64(2), int64(1)\nmemory usage: 122.4 KB\n",
          "output_type": "stream"
        }
      ]
    },
    {
      "cell_type": "code",
      "source": [],
      "metadata": {
        "id": "pi1GpP19aPkO"
      },
      "execution_count": null,
      "outputs": []
    },
    {
      "cell_type": "code",
      "source": [
        "print(y)"
      ],
      "metadata": {
        "execution": {
          "iopub.status.busy": "2024-03-03T14:32:44.92682Z",
          "iopub.execute_input": "2024-03-03T14:32:44.927655Z",
          "iopub.status.idle": "2024-03-03T14:32:44.932394Z",
          "shell.execute_reply.started": "2024-03-03T14:32:44.927626Z",
          "shell.execute_reply": "2024-03-03T14:32:44.931352Z"
        },
        "trusted": true,
        "id": "FnBapA5VaPkO",
        "outputId": "0438626c-192e-445f-c989-0dc6b3fc5550"
      },
      "execution_count": null,
      "outputs": [
        {
          "name": "stdout",
          "text": "[1 1 0 ... 0 0 0]\n",
          "output_type": "stream"
        }
      ]
    },
    {
      "cell_type": "code",
      "source": [
        "from tensorflow.keras.optimizers import RMSprop"
      ],
      "metadata": {
        "execution": {
          "iopub.status.busy": "2024-03-04T02:17:10.782007Z",
          "iopub.execute_input": "2024-03-04T02:17:10.782882Z",
          "iopub.status.idle": "2024-03-04T02:17:10.787121Z",
          "shell.execute_reply.started": "2024-03-04T02:17:10.782839Z",
          "shell.execute_reply": "2024-03-04T02:17:10.786225Z"
        },
        "trusted": true,
        "id": "FA6ungmnaPkP"
      },
      "execution_count": null,
      "outputs": []
    },
    {
      "cell_type": "code",
      "source": [
        "import cv2\n",
        "import numpy as np\n",
        "import pandas as pd\n",
        "from sklearn.model_selection import train_test_split\n",
        "from sklearn.preprocessing import StandardScaler\n",
        "from sklearn.metrics import accuracy_score, classification_report\n",
        "from tensorflow.keras import Sequential\n",
        "from tensorflow.keras.layers import Conv2D, Flatten, Dense, BatchNormalization, Dropout\n",
        "from tensorflow.keras.optimizers import Adam\n",
        "\n",
        "\n",
        "# Split the data into features (X) and labels (y)\n",
        "X = df.iloc[:, :-1].values\n",
        "y = df['drowsy'].values\n",
        "\n",
        "# Split the data into training and testing sets\n",
        "X_train, X_test, y_train, y_test = train_test_split(X, y, test_size=0.2, random_state=42)\n",
        "\n",
        "# Standardize the input data\n",
        "scaler = StandardScaler()\n",
        "X_train = scaler.fit_transform(X_train)\n",
        "X_test = scaler.transform(X_test)\n",
        "\n",
        "# Reshape the data for CNN input (assuming each sample has 2 features)\n",
        "X_train = X_train.reshape(X_train.shape[0], 1, 2, 1)\n",
        "X_test = X_test.reshape(X_test.shape[0], 1, 2, 1)\n",
        "\n",
        "# Create the CNN model\n",
        "model = Sequential()\n",
        "model.add(Conv2D(512, kernel_size=(1, 2), activation='relu', input_shape=(1, 2, 1)))\n",
        "\n",
        "\n",
        "model.add(BatchNormalization())\n",
        "model.add(Flatten())\n",
        "model.add(Dense(256, activation='relu'))\n",
        "Dropout(0.5)\n",
        "model.add(Dense(128, activation='relu'))\n",
        "model.add(BatchNormalization())\n",
        "model.add(Dense(64, activation='relu'))\n",
        "model.add(BatchNormalization())\n",
        "model.add(Dense(1, activation='sigmoid'))  # Output layer with sigmoid activation for binary classification\n",
        "\n",
        "# Compile the model\n",
        "optimizer = Adam(learning_rate=0.001)  # Specifying learning rate for Adam optimizer\n",
        "model.compile(optimizer=optimizer, loss='binary_crossentropy', metrics=['accuracy'])\n",
        "\n",
        "# Display the model summary\n",
        "model.summary()\n",
        "\n",
        "# Train the model\n",
        "history = model.fit(X_train, y_train, epochs=100, batch_size=32, validation_data=(X_test, y_test))\n",
        "\n",
        "# Evaluate the model on the test set\n",
        "y_pred_prob = model.predict(X_test)\n",
        "y_pred = np.round(y_pred_prob)\n",
        "accuracy = accuracy_score(y_test, y_pred)\n",
        "classification_report_result = classification_report(y_test, y_pred)\n",
        "\n",
        "# Print the results\n",
        "print(\"Accuracy:\", accuracy)\n",
        "print(\"Classification Report:\\n\", classification_report_result)\n"
      ],
      "metadata": {
        "execution": {
          "iopub.status.busy": "2024-03-04T02:41:59.828509Z",
          "iopub.execute_input": "2024-03-04T02:41:59.829415Z",
          "iopub.status.idle": "2024-03-04T02:42:48.26291Z",
          "shell.execute_reply.started": "2024-03-04T02:41:59.82937Z",
          "shell.execute_reply": "2024-03-04T02:42:48.261758Z"
        },
        "trusted": true,
        "id": "l-nXR5p_aPkQ",
        "outputId": "122e1a5b-16be-40d1-ae5e-1e905bb2b31b"
      },
      "execution_count": null,
      "outputs": [
        {
          "name": "stderr",
          "text": "/opt/conda/lib/python3.10/site-packages/keras/src/layers/convolutional/base_conv.py:99: UserWarning: Do not pass an `input_shape`/`input_dim` argument to a layer. When using Sequential models, prefer using an `Input(shape)` object as the first layer in the model instead.\n  super().__init__(\n",
          "output_type": "stream"
        },
        {
          "output_type": "display_data",
          "data": {
            "text/plain": "\u001b[1mModel: \"sequential_10\"\u001b[0m\n",
            "text/html": "<pre style=\"white-space:pre;overflow-x:auto;line-height:normal;font-family:Menlo,'DejaVu Sans Mono',consolas,'Courier New',monospace\"><span style=\"font-weight: bold\">Model: \"sequential_10\"</span>\n</pre>\n"
          },
          "metadata": {}
        },
        {
          "output_type": "display_data",
          "data": {
            "text/plain": "┏━━━━━━━━━━━━━━━━━━━━━━━━━━━━━━━━━┳━━━━━━━━━━━━━━━━━━━━━━━━┳━━━━━━━━━━━━━━━┓\n┃\u001b[1m \u001b[0m\u001b[1mLayer (type)                   \u001b[0m\u001b[1m \u001b[0m┃\u001b[1m \u001b[0m\u001b[1mOutput Shape          \u001b[0m\u001b[1m \u001b[0m┃\u001b[1m \u001b[0m\u001b[1m      Param #\u001b[0m\u001b[1m \u001b[0m┃\n┡━━━━━━━━━━━━━━━━━━━━━━━━━━━━━━━━━╇━━━━━━━━━━━━━━━━━━━━━━━━╇━━━━━━━━━━━━━━━┩\n│ conv2d_8 (\u001b[38;5;33mConv2D\u001b[0m)               │ (\u001b[38;5;45mNone\u001b[0m, \u001b[38;5;34m1\u001b[0m, \u001b[38;5;34m1\u001b[0m, \u001b[38;5;34m512\u001b[0m)      │         \u001b[38;5;34m1,536\u001b[0m │\n├─────────────────────────────────┼────────────────────────┼───────────────┤\n│ batch_normalization_30          │ (\u001b[38;5;45mNone\u001b[0m, \u001b[38;5;34m1\u001b[0m, \u001b[38;5;34m1\u001b[0m, \u001b[38;5;34m512\u001b[0m)      │         \u001b[38;5;34m2,048\u001b[0m │\n│ (\u001b[38;5;33mBatchNormalization\u001b[0m)            │                        │               │\n├─────────────────────────────────┼────────────────────────┼───────────────┤\n│ flatten_10 (\u001b[38;5;33mFlatten\u001b[0m)            │ (\u001b[38;5;45mNone\u001b[0m, \u001b[38;5;34m512\u001b[0m)            │             \u001b[38;5;34m0\u001b[0m │\n├─────────────────────────────────┼────────────────────────┼───────────────┤\n│ dense_40 (\u001b[38;5;33mDense\u001b[0m)                │ (\u001b[38;5;45mNone\u001b[0m, \u001b[38;5;34m256\u001b[0m)            │       \u001b[38;5;34m131,328\u001b[0m │\n├─────────────────────────────────┼────────────────────────┼───────────────┤\n│ dense_41 (\u001b[38;5;33mDense\u001b[0m)                │ (\u001b[38;5;45mNone\u001b[0m, \u001b[38;5;34m128\u001b[0m)            │        \u001b[38;5;34m32,896\u001b[0m │\n├─────────────────────────────────┼────────────────────────┼───────────────┤\n│ batch_normalization_31          │ (\u001b[38;5;45mNone\u001b[0m, \u001b[38;5;34m128\u001b[0m)            │           \u001b[38;5;34m512\u001b[0m │\n│ (\u001b[38;5;33mBatchNormalization\u001b[0m)            │                        │               │\n├─────────────────────────────────┼────────────────────────┼───────────────┤\n│ dense_42 (\u001b[38;5;33mDense\u001b[0m)                │ (\u001b[38;5;45mNone\u001b[0m, \u001b[38;5;34m64\u001b[0m)             │         \u001b[38;5;34m8,256\u001b[0m │\n├─────────────────────────────────┼────────────────────────┼───────────────┤\n│ batch_normalization_32          │ (\u001b[38;5;45mNone\u001b[0m, \u001b[38;5;34m64\u001b[0m)             │           \u001b[38;5;34m256\u001b[0m │\n│ (\u001b[38;5;33mBatchNormalization\u001b[0m)            │                        │               │\n├─────────────────────────────────┼────────────────────────┼───────────────┤\n│ dense_43 (\u001b[38;5;33mDense\u001b[0m)                │ (\u001b[38;5;45mNone\u001b[0m, \u001b[38;5;34m1\u001b[0m)              │            \u001b[38;5;34m65\u001b[0m │\n└─────────────────────────────────┴────────────────────────┴───────────────┘\n",
            "text/html": "<pre style=\"white-space:pre;overflow-x:auto;line-height:normal;font-family:Menlo,'DejaVu Sans Mono',consolas,'Courier New',monospace\">┏━━━━━━━━━━━━━━━━━━━━━━━━━━━━━━━━━┳━━━━━━━━━━━━━━━━━━━━━━━━┳━━━━━━━━━━━━━━━┓\n┃<span style=\"font-weight: bold\"> Layer (type)                    </span>┃<span style=\"font-weight: bold\"> Output Shape           </span>┃<span style=\"font-weight: bold\">       Param # </span>┃\n┡━━━━━━━━━━━━━━━━━━━━━━━━━━━━━━━━━╇━━━━━━━━━━━━━━━━━━━━━━━━╇━━━━━━━━━━━━━━━┩\n│ conv2d_8 (<span style=\"color: #0087ff; text-decoration-color: #0087ff\">Conv2D</span>)               │ (<span style=\"color: #00d7ff; text-decoration-color: #00d7ff\">None</span>, <span style=\"color: #00af00; text-decoration-color: #00af00\">1</span>, <span style=\"color: #00af00; text-decoration-color: #00af00\">1</span>, <span style=\"color: #00af00; text-decoration-color: #00af00\">512</span>)      │         <span style=\"color: #00af00; text-decoration-color: #00af00\">1,536</span> │\n├─────────────────────────────────┼────────────────────────┼───────────────┤\n│ batch_normalization_30          │ (<span style=\"color: #00d7ff; text-decoration-color: #00d7ff\">None</span>, <span style=\"color: #00af00; text-decoration-color: #00af00\">1</span>, <span style=\"color: #00af00; text-decoration-color: #00af00\">1</span>, <span style=\"color: #00af00; text-decoration-color: #00af00\">512</span>)      │         <span style=\"color: #00af00; text-decoration-color: #00af00\">2,048</span> │\n│ (<span style=\"color: #0087ff; text-decoration-color: #0087ff\">BatchNormalization</span>)            │                        │               │\n├─────────────────────────────────┼────────────────────────┼───────────────┤\n│ flatten_10 (<span style=\"color: #0087ff; text-decoration-color: #0087ff\">Flatten</span>)            │ (<span style=\"color: #00d7ff; text-decoration-color: #00d7ff\">None</span>, <span style=\"color: #00af00; text-decoration-color: #00af00\">512</span>)            │             <span style=\"color: #00af00; text-decoration-color: #00af00\">0</span> │\n├─────────────────────────────────┼────────────────────────┼───────────────┤\n│ dense_40 (<span style=\"color: #0087ff; text-decoration-color: #0087ff\">Dense</span>)                │ (<span style=\"color: #00d7ff; text-decoration-color: #00d7ff\">None</span>, <span style=\"color: #00af00; text-decoration-color: #00af00\">256</span>)            │       <span style=\"color: #00af00; text-decoration-color: #00af00\">131,328</span> │\n├─────────────────────────────────┼────────────────────────┼───────────────┤\n│ dense_41 (<span style=\"color: #0087ff; text-decoration-color: #0087ff\">Dense</span>)                │ (<span style=\"color: #00d7ff; text-decoration-color: #00d7ff\">None</span>, <span style=\"color: #00af00; text-decoration-color: #00af00\">128</span>)            │        <span style=\"color: #00af00; text-decoration-color: #00af00\">32,896</span> │\n├─────────────────────────────────┼────────────────────────┼───────────────┤\n│ batch_normalization_31          │ (<span style=\"color: #00d7ff; text-decoration-color: #00d7ff\">None</span>, <span style=\"color: #00af00; text-decoration-color: #00af00\">128</span>)            │           <span style=\"color: #00af00; text-decoration-color: #00af00\">512</span> │\n│ (<span style=\"color: #0087ff; text-decoration-color: #0087ff\">BatchNormalization</span>)            │                        │               │\n├─────────────────────────────────┼────────────────────────┼───────────────┤\n│ dense_42 (<span style=\"color: #0087ff; text-decoration-color: #0087ff\">Dense</span>)                │ (<span style=\"color: #00d7ff; text-decoration-color: #00d7ff\">None</span>, <span style=\"color: #00af00; text-decoration-color: #00af00\">64</span>)             │         <span style=\"color: #00af00; text-decoration-color: #00af00\">8,256</span> │\n├─────────────────────────────────┼────────────────────────┼───────────────┤\n│ batch_normalization_32          │ (<span style=\"color: #00d7ff; text-decoration-color: #00d7ff\">None</span>, <span style=\"color: #00af00; text-decoration-color: #00af00\">64</span>)             │           <span style=\"color: #00af00; text-decoration-color: #00af00\">256</span> │\n│ (<span style=\"color: #0087ff; text-decoration-color: #0087ff\">BatchNormalization</span>)            │                        │               │\n├─────────────────────────────────┼────────────────────────┼───────────────┤\n│ dense_43 (<span style=\"color: #0087ff; text-decoration-color: #0087ff\">Dense</span>)                │ (<span style=\"color: #00d7ff; text-decoration-color: #00d7ff\">None</span>, <span style=\"color: #00af00; text-decoration-color: #00af00\">1</span>)              │            <span style=\"color: #00af00; text-decoration-color: #00af00\">65</span> │\n└─────────────────────────────────┴────────────────────────┴───────────────┘\n</pre>\n"
          },
          "metadata": {}
        },
        {
          "output_type": "display_data",
          "data": {
            "text/plain": "\u001b[1m Total params: \u001b[0m\u001b[38;5;34m176,897\u001b[0m (691.00 KB)\n",
            "text/html": "<pre style=\"white-space:pre;overflow-x:auto;line-height:normal;font-family:Menlo,'DejaVu Sans Mono',consolas,'Courier New',monospace\"><span style=\"font-weight: bold\"> Total params: </span><span style=\"color: #00af00; text-decoration-color: #00af00\">176,897</span> (691.00 KB)\n</pre>\n"
          },
          "metadata": {}
        },
        {
          "output_type": "display_data",
          "data": {
            "text/plain": "\u001b[1m Trainable params: \u001b[0m\u001b[38;5;34m175,489\u001b[0m (685.50 KB)\n",
            "text/html": "<pre style=\"white-space:pre;overflow-x:auto;line-height:normal;font-family:Menlo,'DejaVu Sans Mono',consolas,'Courier New',monospace\"><span style=\"font-weight: bold\"> Trainable params: </span><span style=\"color: #00af00; text-decoration-color: #00af00\">175,489</span> (685.50 KB)\n</pre>\n"
          },
          "metadata": {}
        },
        {
          "output_type": "display_data",
          "data": {
            "text/plain": "\u001b[1m Non-trainable params: \u001b[0m\u001b[38;5;34m1,408\u001b[0m (5.50 KB)\n",
            "text/html": "<pre style=\"white-space:pre;overflow-x:auto;line-height:normal;font-family:Menlo,'DejaVu Sans Mono',consolas,'Courier New',monospace\"><span style=\"font-weight: bold\"> Non-trainable params: </span><span style=\"color: #00af00; text-decoration-color: #00af00\">1,408</span> (5.50 KB)\n</pre>\n"
          },
          "metadata": {}
        },
        {
          "name": "stdout",
          "text": "Epoch 1/100\n\u001b[1m151/151\u001b[0m \u001b[32m━━━━━━━━━━━━━━━━━━━━\u001b[0m\u001b[37m\u001b[0m \u001b[1m5s\u001b[0m 14ms/step - accuracy: 0.7389 - loss: 0.5213 - val_accuracy: 0.5228 - val_loss: 0.7274\nEpoch 2/100\n\u001b[1m151/151\u001b[0m \u001b[32m━━━━━━━━━━━━━━━━━━━━\u001b[0m\u001b[37m\u001b[0m \u001b[1m0s\u001b[0m 3ms/step - accuracy: 0.7673 - loss: 0.4693 - val_accuracy: 0.5228 - val_loss: 0.6420\nEpoch 3/100\n\u001b[1m151/151\u001b[0m \u001b[32m━━━━━━━━━━━━━━━━━━━━\u001b[0m\u001b[37m\u001b[0m \u001b[1m0s\u001b[0m 3ms/step - accuracy: 0.7664 - loss: 0.4814 - val_accuracy: 0.7071 - val_loss: 0.4923\nEpoch 4/100\n\u001b[1m151/151\u001b[0m \u001b[32m━━━━━━━━━━━━━━━━━━━━\u001b[0m\u001b[37m\u001b[0m \u001b[1m0s\u001b[0m 3ms/step - accuracy: 0.7651 - loss: 0.4671 - val_accuracy: 0.7884 - val_loss: 0.4522\nEpoch 5/100\n\u001b[1m151/151\u001b[0m \u001b[32m━━━━━━━━━━━━━━━━━━━━\u001b[0m\u001b[37m\u001b[0m \u001b[1m0s\u001b[0m 3ms/step - accuracy: 0.7793 - loss: 0.4513 - val_accuracy: 0.7867 - val_loss: 0.4261\nEpoch 6/100\n\u001b[1m151/151\u001b[0m \u001b[32m━━━━━━━━━━━━━━━━━━━━\u001b[0m\u001b[37m\u001b[0m \u001b[1m0s\u001b[0m 3ms/step - accuracy: 0.7631 - loss: 0.4578 - val_accuracy: 0.7900 - val_loss: 0.4239\nEpoch 7/100\n\u001b[1m151/151\u001b[0m \u001b[32m━━━━━━━━━━━━━━━━━━━━\u001b[0m\u001b[37m\u001b[0m \u001b[1m0s\u001b[0m 3ms/step - accuracy: 0.7642 - loss: 0.4705 - val_accuracy: 0.7925 - val_loss: 0.4247\nEpoch 8/100\n\u001b[1m151/151\u001b[0m \u001b[32m━━━━━━━━━━━━━━━━━━━━\u001b[0m\u001b[37m\u001b[0m \u001b[1m0s\u001b[0m 3ms/step - accuracy: 0.7863 - loss: 0.4445 - val_accuracy: 0.7917 - val_loss: 0.4229\nEpoch 9/100\n\u001b[1m151/151\u001b[0m \u001b[32m━━━━━━━━━━━━━━━━━━━━\u001b[0m\u001b[37m\u001b[0m \u001b[1m0s\u001b[0m 3ms/step - accuracy: 0.7598 - loss: 0.4577 - val_accuracy: 0.7934 - val_loss: 0.4203\nEpoch 10/100\n\u001b[1m151/151\u001b[0m \u001b[32m━━━━━━━━━━━━━━━━━━━━\u001b[0m\u001b[37m\u001b[0m \u001b[1m0s\u001b[0m 3ms/step - accuracy: 0.7691 - loss: 0.4536 - val_accuracy: 0.7942 - val_loss: 0.4284\nEpoch 11/100\n\u001b[1m151/151\u001b[0m \u001b[32m━━━━━━━━━━━━━━━━━━━━\u001b[0m\u001b[37m\u001b[0m \u001b[1m0s\u001b[0m 3ms/step - accuracy: 0.7710 - loss: 0.4561 - val_accuracy: 0.7867 - val_loss: 0.4292\nEpoch 12/100\n\u001b[1m151/151\u001b[0m \u001b[32m━━━━━━━━━━━━━━━━━━━━\u001b[0m\u001b[37m\u001b[0m \u001b[1m0s\u001b[0m 3ms/step - accuracy: 0.7977 - loss: 0.4250 - val_accuracy: 0.7934 - val_loss: 0.4237\nEpoch 13/100\n\u001b[1m151/151\u001b[0m \u001b[32m━━━━━━━━━━━━━━━━━━━━\u001b[0m\u001b[37m\u001b[0m \u001b[1m0s\u001b[0m 3ms/step - accuracy: 0.7742 - loss: 0.4507 - val_accuracy: 0.7867 - val_loss: 0.4349\nEpoch 14/100\n\u001b[1m151/151\u001b[0m \u001b[32m━━━━━━━━━━━━━━━━━━━━\u001b[0m\u001b[37m\u001b[0m \u001b[1m0s\u001b[0m 3ms/step - accuracy: 0.7763 - loss: 0.4497 - val_accuracy: 0.7925 - val_loss: 0.4169\nEpoch 15/100\n\u001b[1m151/151\u001b[0m \u001b[32m━━━━━━━━━━━━━━━━━━━━\u001b[0m\u001b[37m\u001b[0m \u001b[1m0s\u001b[0m 3ms/step - accuracy: 0.7871 - loss: 0.4429 - val_accuracy: 0.7876 - val_loss: 0.4290\nEpoch 16/100\n\u001b[1m151/151\u001b[0m \u001b[32m━━━━━━━━━━━━━━━━━━━━\u001b[0m\u001b[37m\u001b[0m \u001b[1m1s\u001b[0m 3ms/step - accuracy: 0.7676 - loss: 0.4595 - val_accuracy: 0.7950 - val_loss: 0.4170\nEpoch 17/100\n\u001b[1m151/151\u001b[0m \u001b[32m━━━━━━━━━━━━━━━━━━━━\u001b[0m\u001b[37m\u001b[0m \u001b[1m0s\u001b[0m 3ms/step - accuracy: 0.7863 - loss: 0.4398 - val_accuracy: 0.7892 - val_loss: 0.4164\nEpoch 18/100\n\u001b[1m151/151\u001b[0m \u001b[32m━━━━━━━━━━━━━━━━━━━━\u001b[0m\u001b[37m\u001b[0m \u001b[1m0s\u001b[0m 3ms/step - accuracy: 0.7811 - loss: 0.4473 - val_accuracy: 0.7925 - val_loss: 0.4285\nEpoch 19/100\n\u001b[1m151/151\u001b[0m \u001b[32m━━━━━━━━━━━━━━━━━━━━\u001b[0m\u001b[37m\u001b[0m \u001b[1m0s\u001b[0m 3ms/step - accuracy: 0.7856 - loss: 0.4446 - val_accuracy: 0.7925 - val_loss: 0.4137\nEpoch 20/100\n\u001b[1m151/151\u001b[0m \u001b[32m━━━━━━━━━━━━━━━━━━━━\u001b[0m\u001b[37m\u001b[0m \u001b[1m0s\u001b[0m 3ms/step - accuracy: 0.7673 - loss: 0.4501 - val_accuracy: 0.7975 - val_loss: 0.4235\nEpoch 21/100\n\u001b[1m151/151\u001b[0m \u001b[32m━━━━━━━━━━━━━━━━━━━━\u001b[0m\u001b[37m\u001b[0m \u001b[1m0s\u001b[0m 3ms/step - accuracy: 0.7848 - loss: 0.4298 - val_accuracy: 0.7892 - val_loss: 0.4273\nEpoch 22/100\n\u001b[1m151/151\u001b[0m \u001b[32m━━━━━━━━━━━━━━━━━━━━\u001b[0m\u001b[37m\u001b[0m \u001b[1m0s\u001b[0m 3ms/step - accuracy: 0.7872 - loss: 0.4377 - val_accuracy: 0.7959 - val_loss: 0.4275\nEpoch 23/100\n\u001b[1m151/151\u001b[0m \u001b[32m━━━━━━━━━━━━━━━━━━━━\u001b[0m\u001b[37m\u001b[0m \u001b[1m0s\u001b[0m 3ms/step - accuracy: 0.7677 - loss: 0.4620 - val_accuracy: 0.7917 - val_loss: 0.4181\nEpoch 24/100\n\u001b[1m151/151\u001b[0m \u001b[32m━━━━━━━━━━━━━━━━━━━━\u001b[0m\u001b[37m\u001b[0m \u001b[1m0s\u001b[0m 3ms/step - accuracy: 0.7764 - loss: 0.4434 - val_accuracy: 0.7909 - val_loss: 0.4259\nEpoch 25/100\n\u001b[1m151/151\u001b[0m \u001b[32m━━━━━━━━━━━━━━━━━━━━\u001b[0m\u001b[37m\u001b[0m \u001b[1m0s\u001b[0m 3ms/step - accuracy: 0.7831 - loss: 0.4409 - val_accuracy: 0.7859 - val_loss: 0.4206\nEpoch 26/100\n\u001b[1m151/151\u001b[0m \u001b[32m━━━━━━━━━━━━━━━━━━━━\u001b[0m\u001b[37m\u001b[0m \u001b[1m0s\u001b[0m 3ms/step - accuracy: 0.7847 - loss: 0.4313 - val_accuracy: 0.8000 - val_loss: 0.4118\nEpoch 27/100\n\u001b[1m151/151\u001b[0m \u001b[32m━━━━━━━━━━━━━━━━━━━━\u001b[0m\u001b[37m\u001b[0m \u001b[1m0s\u001b[0m 3ms/step - accuracy: 0.7815 - loss: 0.4415 - val_accuracy: 0.7925 - val_loss: 0.4190\nEpoch 28/100\n\u001b[1m151/151\u001b[0m \u001b[32m━━━━━━━━━━━━━━━━━━━━\u001b[0m\u001b[37m\u001b[0m \u001b[1m0s\u001b[0m 3ms/step - accuracy: 0.7749 - loss: 0.4484 - val_accuracy: 0.7992 - val_loss: 0.4213\nEpoch 29/100\n\u001b[1m151/151\u001b[0m \u001b[32m━━━━━━━━━━━━━━━━━━━━\u001b[0m\u001b[37m\u001b[0m \u001b[1m0s\u001b[0m 3ms/step - accuracy: 0.7841 - loss: 0.4394 - val_accuracy: 0.7934 - val_loss: 0.4143\nEpoch 30/100\n\u001b[1m151/151\u001b[0m \u001b[32m━━━━━━━━━━━━━━━━━━━━\u001b[0m\u001b[37m\u001b[0m \u001b[1m0s\u001b[0m 3ms/step - accuracy: 0.7907 - loss: 0.4310 - val_accuracy: 0.7934 - val_loss: 0.4184\nEpoch 31/100\n\u001b[1m151/151\u001b[0m \u001b[32m━━━━━━━━━━━━━━━━━━━━\u001b[0m\u001b[37m\u001b[0m \u001b[1m0s\u001b[0m 3ms/step - accuracy: 0.7823 - loss: 0.4454 - val_accuracy: 0.8008 - val_loss: 0.4198\nEpoch 32/100\n\u001b[1m151/151\u001b[0m \u001b[32m━━━━━━━━━━━━━━━━━━━━\u001b[0m\u001b[37m\u001b[0m \u001b[1m0s\u001b[0m 3ms/step - accuracy: 0.7797 - loss: 0.4457 - val_accuracy: 0.7975 - val_loss: 0.4192\nEpoch 33/100\n\u001b[1m151/151\u001b[0m \u001b[32m━━━━━━━━━━━━━━━━━━━━\u001b[0m\u001b[37m\u001b[0m \u001b[1m0s\u001b[0m 3ms/step - accuracy: 0.7674 - loss: 0.4559 - val_accuracy: 0.7834 - val_loss: 0.4401\nEpoch 34/100\n\u001b[1m151/151\u001b[0m \u001b[32m━━━━━━━━━━━━━━━━━━━━\u001b[0m\u001b[37m\u001b[0m \u001b[1m0s\u001b[0m 3ms/step - accuracy: 0.7945 - loss: 0.4269 - val_accuracy: 0.7992 - val_loss: 0.4226\nEpoch 35/100\n\u001b[1m151/151\u001b[0m \u001b[32m━━━━━━━━━━━━━━━━━━━━\u001b[0m\u001b[37m\u001b[0m \u001b[1m0s\u001b[0m 3ms/step - accuracy: 0.7750 - loss: 0.4415 - val_accuracy: 0.7950 - val_loss: 0.4182\nEpoch 36/100\n\u001b[1m151/151\u001b[0m \u001b[32m━━━━━━━━━━━━━━━━━━━━\u001b[0m\u001b[37m\u001b[0m \u001b[1m0s\u001b[0m 3ms/step - accuracy: 0.7767 - loss: 0.4413 - val_accuracy: 0.8000 - val_loss: 0.4185\nEpoch 37/100\n\u001b[1m151/151\u001b[0m \u001b[32m━━━━━━━━━━━━━━━━━━━━\u001b[0m\u001b[37m\u001b[0m \u001b[1m0s\u001b[0m 3ms/step - accuracy: 0.7687 - loss: 0.4557 - val_accuracy: 0.7992 - val_loss: 0.4175\nEpoch 38/100\n\u001b[1m151/151\u001b[0m \u001b[32m━━━━━━━━━━━━━━━━━━━━\u001b[0m\u001b[37m\u001b[0m \u001b[1m0s\u001b[0m 3ms/step - accuracy: 0.7786 - loss: 0.4510 - val_accuracy: 0.8000 - val_loss: 0.4156\nEpoch 39/100\n\u001b[1m151/151\u001b[0m \u001b[32m━━━━━━━━━━━━━━━━━━━━\u001b[0m\u001b[37m\u001b[0m \u001b[1m0s\u001b[0m 3ms/step - accuracy: 0.7763 - loss: 0.4396 - val_accuracy: 0.7983 - val_loss: 0.4184\nEpoch 40/100\n\u001b[1m151/151\u001b[0m \u001b[32m━━━━━━━━━━━━━━━━━━━━\u001b[0m\u001b[37m\u001b[0m \u001b[1m0s\u001b[0m 3ms/step - accuracy: 0.7783 - loss: 0.4427 - val_accuracy: 0.7975 - val_loss: 0.4210\nEpoch 41/100\n\u001b[1m151/151\u001b[0m \u001b[32m━━━━━━━━━━━━━━━━━━━━\u001b[0m\u001b[37m\u001b[0m \u001b[1m0s\u001b[0m 3ms/step - accuracy: 0.7801 - loss: 0.4410 - val_accuracy: 0.7851 - val_loss: 0.4240\nEpoch 42/100\n\u001b[1m151/151\u001b[0m \u001b[32m━━━━━━━━━━━━━━━━━━━━\u001b[0m\u001b[37m\u001b[0m \u001b[1m0s\u001b[0m 3ms/step - accuracy: 0.7913 - loss: 0.4292 - val_accuracy: 0.7950 - val_loss: 0.4156\nEpoch 43/100\n\u001b[1m151/151\u001b[0m \u001b[32m━━━━━━━━━━━━━━━━━━━━\u001b[0m\u001b[37m\u001b[0m \u001b[1m0s\u001b[0m 3ms/step - accuracy: 0.7775 - loss: 0.4472 - val_accuracy: 0.7892 - val_loss: 0.4222\nEpoch 44/100\n\u001b[1m151/151\u001b[0m \u001b[32m━━━━━━━━━━━━━━━━━━━━\u001b[0m\u001b[37m\u001b[0m \u001b[1m0s\u001b[0m 3ms/step - accuracy: 0.7700 - loss: 0.4445 - val_accuracy: 0.7983 - val_loss: 0.4204\nEpoch 45/100\n\u001b[1m151/151\u001b[0m \u001b[32m━━━━━━━━━━━━━━━━━━━━\u001b[0m\u001b[37m\u001b[0m \u001b[1m0s\u001b[0m 3ms/step - accuracy: 0.7725 - loss: 0.4532 - val_accuracy: 0.7975 - val_loss: 0.4174\nEpoch 46/100\n\u001b[1m151/151\u001b[0m \u001b[32m━━━━━━━━━━━━━━━━━━━━\u001b[0m\u001b[37m\u001b[0m \u001b[1m0s\u001b[0m 3ms/step - accuracy: 0.7843 - loss: 0.4375 - val_accuracy: 0.7917 - val_loss: 0.4183\nEpoch 47/100\n\u001b[1m151/151\u001b[0m \u001b[32m━━━━━━━━━━━━━━━━━━━━\u001b[0m\u001b[37m\u001b[0m \u001b[1m0s\u001b[0m 3ms/step - accuracy: 0.7810 - loss: 0.4382 - val_accuracy: 0.7917 - val_loss: 0.4234\nEpoch 48/100\n\u001b[1m151/151\u001b[0m \u001b[32m━━━━━━━━━━━━━━━━━━━━\u001b[0m\u001b[37m\u001b[0m \u001b[1m0s\u001b[0m 3ms/step - accuracy: 0.7852 - loss: 0.4278 - val_accuracy: 0.8025 - val_loss: 0.4129\nEpoch 49/100\n\u001b[1m151/151\u001b[0m \u001b[32m━━━━━━━━━━━━━━━━━━━━\u001b[0m\u001b[37m\u001b[0m \u001b[1m1s\u001b[0m 3ms/step - accuracy: 0.7808 - loss: 0.4431 - val_accuracy: 0.7983 - val_loss: 0.4222\nEpoch 50/100\n\u001b[1m151/151\u001b[0m \u001b[32m━━━━━━━━━━━━━━━━━━━━\u001b[0m\u001b[37m\u001b[0m \u001b[1m0s\u001b[0m 3ms/step - accuracy: 0.7887 - loss: 0.4300 - val_accuracy: 0.8017 - val_loss: 0.4138\nEpoch 51/100\n\u001b[1m151/151\u001b[0m \u001b[32m━━━━━━━━━━━━━━━━━━━━\u001b[0m\u001b[37m\u001b[0m \u001b[1m0s\u001b[0m 3ms/step - accuracy: 0.7924 - loss: 0.4198 - val_accuracy: 0.7909 - val_loss: 0.4219\nEpoch 52/100\n\u001b[1m151/151\u001b[0m \u001b[32m━━━━━━━━━━━━━━━━━━━━\u001b[0m\u001b[37m\u001b[0m \u001b[1m0s\u001b[0m 3ms/step - accuracy: 0.7989 - loss: 0.4222 - val_accuracy: 0.7983 - val_loss: 0.4194\nEpoch 53/100\n\u001b[1m151/151\u001b[0m \u001b[32m━━━━━━━━━━━━━━━━━━━━\u001b[0m\u001b[37m\u001b[0m \u001b[1m0s\u001b[0m 3ms/step - accuracy: 0.7761 - loss: 0.4338 - val_accuracy: 0.7942 - val_loss: 0.4188\nEpoch 54/100\n\u001b[1m151/151\u001b[0m \u001b[32m━━━━━━━━━━━━━━━━━━━━\u001b[0m\u001b[37m\u001b[0m \u001b[1m0s\u001b[0m 3ms/step - accuracy: 0.7961 - loss: 0.4201 - val_accuracy: 0.7992 - val_loss: 0.4207\nEpoch 55/100\n\u001b[1m151/151\u001b[0m \u001b[32m━━━━━━━━━━━━━━━━━━━━\u001b[0m\u001b[37m\u001b[0m \u001b[1m0s\u001b[0m 3ms/step - accuracy: 0.7684 - loss: 0.4469 - val_accuracy: 0.7959 - val_loss: 0.4147\nEpoch 56/100\n\u001b[1m151/151\u001b[0m \u001b[32m━━━━━━━━━━━━━━━━━━━━\u001b[0m\u001b[37m\u001b[0m \u001b[1m0s\u001b[0m 3ms/step - accuracy: 0.7900 - loss: 0.4246 - val_accuracy: 0.7959 - val_loss: 0.4203\nEpoch 57/100\n\u001b[1m151/151\u001b[0m \u001b[32m━━━━━━━━━━━━━━━━━━━━\u001b[0m\u001b[37m\u001b[0m \u001b[1m0s\u001b[0m 3ms/step - accuracy: 0.7857 - loss: 0.4293 - val_accuracy: 0.7959 - val_loss: 0.4156\nEpoch 58/100\n\u001b[1m151/151\u001b[0m \u001b[32m━━━━━━━━━━━━━━━━━━━━\u001b[0m\u001b[37m\u001b[0m \u001b[1m0s\u001b[0m 3ms/step - accuracy: 0.7934 - loss: 0.4255 - val_accuracy: 0.7934 - val_loss: 0.4154\nEpoch 59/100\n\u001b[1m151/151\u001b[0m \u001b[32m━━━━━━━━━━━━━━━━━━━━\u001b[0m\u001b[37m\u001b[0m \u001b[1m0s\u001b[0m 3ms/step - accuracy: 0.7897 - loss: 0.4251 - val_accuracy: 0.7876 - val_loss: 0.4245\nEpoch 60/100\n\u001b[1m151/151\u001b[0m \u001b[32m━━━━━━━━━━━━━━━━━━━━\u001b[0m\u001b[37m\u001b[0m \u001b[1m0s\u001b[0m 3ms/step - accuracy: 0.7926 - loss: 0.4285 - val_accuracy: 0.7983 - val_loss: 0.4161\nEpoch 61/100\n\u001b[1m151/151\u001b[0m \u001b[32m━━━━━━━━━━━━━━━━━━━━\u001b[0m\u001b[37m\u001b[0m \u001b[1m0s\u001b[0m 3ms/step - accuracy: 0.7740 - loss: 0.4376 - val_accuracy: 0.7950 - val_loss: 0.4251\nEpoch 62/100\n\u001b[1m151/151\u001b[0m \u001b[32m━━━━━━━━━━━━━━━━━━━━\u001b[0m\u001b[37m\u001b[0m \u001b[1m0s\u001b[0m 3ms/step - accuracy: 0.7957 - loss: 0.4340 - val_accuracy: 0.7967 - val_loss: 0.4249\nEpoch 63/100\n\u001b[1m151/151\u001b[0m \u001b[32m━━━━━━━━━━━━━━━━━━━━\u001b[0m\u001b[37m\u001b[0m \u001b[1m0s\u001b[0m 3ms/step - accuracy: 0.7914 - loss: 0.4278 - val_accuracy: 0.7967 - val_loss: 0.4134\nEpoch 64/100\n\u001b[1m151/151\u001b[0m \u001b[32m━━━━━━━━━━━━━━━━━━━━\u001b[0m\u001b[37m\u001b[0m \u001b[1m0s\u001b[0m 3ms/step - accuracy: 0.7796 - loss: 0.4352 - val_accuracy: 0.7909 - val_loss: 0.4180\nEpoch 65/100\n\u001b[1m151/151\u001b[0m \u001b[32m━━━━━━━━━━━━━━━━━━━━\u001b[0m\u001b[37m\u001b[0m \u001b[1m0s\u001b[0m 3ms/step - accuracy: 0.7914 - loss: 0.4298 - val_accuracy: 0.7950 - val_loss: 0.4196\nEpoch 66/100\n\u001b[1m151/151\u001b[0m \u001b[32m━━━━━━━━━━━━━━━━━━━━\u001b[0m\u001b[37m\u001b[0m \u001b[1m0s\u001b[0m 3ms/step - accuracy: 0.7881 - loss: 0.4358 - val_accuracy: 0.7934 - val_loss: 0.4189\nEpoch 67/100\n\u001b[1m151/151\u001b[0m \u001b[32m━━━━━━━━━━━━━━━━━━━━\u001b[0m\u001b[37m\u001b[0m \u001b[1m0s\u001b[0m 3ms/step - accuracy: 0.7789 - loss: 0.4397 - val_accuracy: 0.7959 - val_loss: 0.4200\nEpoch 68/100\n\u001b[1m151/151\u001b[0m \u001b[32m━━━━━━━━━━━━━━━━━━━━\u001b[0m\u001b[37m\u001b[0m \u001b[1m0s\u001b[0m 3ms/step - accuracy: 0.7905 - loss: 0.4300 - val_accuracy: 0.7925 - val_loss: 0.4228\nEpoch 69/100\n\u001b[1m151/151\u001b[0m \u001b[32m━━━━━━━━━━━━━━━━━━━━\u001b[0m\u001b[37m\u001b[0m \u001b[1m0s\u001b[0m 3ms/step - accuracy: 0.7827 - loss: 0.4352 - val_accuracy: 0.7967 - val_loss: 0.4181\nEpoch 70/100\n\u001b[1m151/151\u001b[0m \u001b[32m━━━━━━━━━━━━━━━━━━━━\u001b[0m\u001b[37m\u001b[0m \u001b[1m0s\u001b[0m 3ms/step - accuracy: 0.7779 - loss: 0.4400 - val_accuracy: 0.8008 - val_loss: 0.4145\nEpoch 71/100\n\u001b[1m151/151\u001b[0m \u001b[32m━━━━━━━━━━━━━━━━━━━━\u001b[0m\u001b[37m\u001b[0m \u001b[1m0s\u001b[0m 3ms/step - accuracy: 0.7844 - loss: 0.4241 - val_accuracy: 0.7942 - val_loss: 0.4192\nEpoch 72/100\n\u001b[1m151/151\u001b[0m \u001b[32m━━━━━━━━━━━━━━━━━━━━\u001b[0m\u001b[37m\u001b[0m \u001b[1m0s\u001b[0m 3ms/step - accuracy: 0.7822 - loss: 0.4373 - val_accuracy: 0.7992 - val_loss: 0.4120\nEpoch 73/100\n\u001b[1m151/151\u001b[0m \u001b[32m━━━━━━━━━━━━━━━━━━━━\u001b[0m\u001b[37m\u001b[0m \u001b[1m0s\u001b[0m 3ms/step - accuracy: 0.7919 - loss: 0.4334 - val_accuracy: 0.7992 - val_loss: 0.4170\nEpoch 74/100\n\u001b[1m151/151\u001b[0m \u001b[32m━━━━━━━━━━━━━━━━━━━━\u001b[0m\u001b[37m\u001b[0m \u001b[1m0s\u001b[0m 3ms/step - accuracy: 0.7823 - loss: 0.4376 - val_accuracy: 0.7983 - val_loss: 0.4180\nEpoch 75/100\n\u001b[1m151/151\u001b[0m \u001b[32m━━━━━━━━━━━━━━━━━━━━\u001b[0m\u001b[37m\u001b[0m \u001b[1m0s\u001b[0m 3ms/step - accuracy: 0.7808 - loss: 0.4333 - val_accuracy: 0.7975 - val_loss: 0.4154\nEpoch 76/100\n\u001b[1m151/151\u001b[0m \u001b[32m━━━━━━━━━━━━━━━━━━━━\u001b[0m\u001b[37m\u001b[0m \u001b[1m0s\u001b[0m 3ms/step - accuracy: 0.7834 - loss: 0.4328 - val_accuracy: 0.7975 - val_loss: 0.4225\nEpoch 77/100\n\u001b[1m151/151\u001b[0m \u001b[32m━━━━━━━━━━━━━━━━━━━━\u001b[0m\u001b[37m\u001b[0m \u001b[1m0s\u001b[0m 3ms/step - accuracy: 0.7824 - loss: 0.4296 - val_accuracy: 0.7983 - val_loss: 0.4218\nEpoch 78/100\n\u001b[1m151/151\u001b[0m \u001b[32m━━━━━━━━━━━━━━━━━━━━\u001b[0m\u001b[37m\u001b[0m \u001b[1m0s\u001b[0m 3ms/step - accuracy: 0.7808 - loss: 0.4324 - val_accuracy: 0.7959 - val_loss: 0.4153\nEpoch 79/100\n\u001b[1m151/151\u001b[0m \u001b[32m━━━━━━━━━━━━━━━━━━━━\u001b[0m\u001b[37m\u001b[0m \u001b[1m0s\u001b[0m 3ms/step - accuracy: 0.7825 - loss: 0.4290 - val_accuracy: 0.7942 - val_loss: 0.4236\nEpoch 80/100\n\u001b[1m151/151\u001b[0m \u001b[32m━━━━━━━━━━━━━━━━━━━━\u001b[0m\u001b[37m\u001b[0m \u001b[1m0s\u001b[0m 3ms/step - accuracy: 0.7884 - loss: 0.4253 - val_accuracy: 0.7959 - val_loss: 0.4136\nEpoch 81/100\n\u001b[1m151/151\u001b[0m \u001b[32m━━━━━━━━━━━━━━━━━━━━\u001b[0m\u001b[37m\u001b[0m \u001b[1m0s\u001b[0m 3ms/step - accuracy: 0.7908 - loss: 0.4342 - val_accuracy: 0.7959 - val_loss: 0.4183\nEpoch 82/100\n\u001b[1m151/151\u001b[0m \u001b[32m━━━━━━━━━━━━━━━━━━━━\u001b[0m\u001b[37m\u001b[0m \u001b[1m0s\u001b[0m 3ms/step - accuracy: 0.7873 - loss: 0.4333 - val_accuracy: 0.7967 - val_loss: 0.4173\nEpoch 83/100\n\u001b[1m151/151\u001b[0m \u001b[32m━━━━━━━━━━━━━━━━━━━━\u001b[0m\u001b[37m\u001b[0m \u001b[1m0s\u001b[0m 3ms/step - accuracy: 0.7879 - loss: 0.4259 - val_accuracy: 0.8025 - val_loss: 0.4163\nEpoch 84/100\n\u001b[1m151/151\u001b[0m \u001b[32m━━━━━━━━━━━━━━━━━━━━\u001b[0m\u001b[37m\u001b[0m \u001b[1m0s\u001b[0m 3ms/step - accuracy: 0.7835 - loss: 0.4344 - val_accuracy: 0.7967 - val_loss: 0.4159\nEpoch 85/100\n\u001b[1m151/151\u001b[0m \u001b[32m━━━━━━━━━━━━━━━━━━━━\u001b[0m\u001b[37m\u001b[0m \u001b[1m0s\u001b[0m 3ms/step - accuracy: 0.7955 - loss: 0.4185 - val_accuracy: 0.7983 - val_loss: 0.4220\nEpoch 86/100\n\u001b[1m151/151\u001b[0m \u001b[32m━━━━━━━━━━━━━━━━━━━━\u001b[0m\u001b[37m\u001b[0m \u001b[1m0s\u001b[0m 3ms/step - accuracy: 0.7866 - loss: 0.4261 - val_accuracy: 0.7992 - val_loss: 0.4112\nEpoch 87/100\n\u001b[1m151/151\u001b[0m \u001b[32m━━━━━━━━━━━━━━━━━━━━\u001b[0m\u001b[37m\u001b[0m \u001b[1m0s\u001b[0m 3ms/step - accuracy: 0.7833 - loss: 0.4254 - val_accuracy: 0.7950 - val_loss: 0.4226\nEpoch 88/100\n\u001b[1m151/151\u001b[0m \u001b[32m━━━━━━━━━━━━━━━━━━━━\u001b[0m\u001b[37m\u001b[0m \u001b[1m0s\u001b[0m 3ms/step - accuracy: 0.7831 - loss: 0.4339 - val_accuracy: 0.7983 - val_loss: 0.4189\nEpoch 89/100\n\u001b[1m151/151\u001b[0m \u001b[32m━━━━━━━━━━━━━━━━━━━━\u001b[0m\u001b[37m\u001b[0m \u001b[1m0s\u001b[0m 3ms/step - accuracy: 0.7806 - loss: 0.4307 - val_accuracy: 0.7909 - val_loss: 0.4233\nEpoch 90/100\n\u001b[1m151/151\u001b[0m \u001b[32m━━━━━━━━━━━━━━━━━━━━\u001b[0m\u001b[37m\u001b[0m \u001b[1m1s\u001b[0m 3ms/step - accuracy: 0.7807 - loss: 0.4354 - val_accuracy: 0.7917 - val_loss: 0.4202\nEpoch 91/100\n\u001b[1m151/151\u001b[0m \u001b[32m━━━━━━━━━━━━━━━━━━━━\u001b[0m\u001b[37m\u001b[0m \u001b[1m0s\u001b[0m 3ms/step - accuracy: 0.7924 - loss: 0.4211 - val_accuracy: 0.7992 - val_loss: 0.4161\nEpoch 92/100\n\u001b[1m151/151\u001b[0m \u001b[32m━━━━━━━━━━━━━━━━━━━━\u001b[0m\u001b[37m\u001b[0m \u001b[1m0s\u001b[0m 3ms/step - accuracy: 0.7796 - loss: 0.4337 - val_accuracy: 0.8000 - val_loss: 0.4154\nEpoch 93/100\n\u001b[1m151/151\u001b[0m \u001b[32m━━━━━━━━━━━━━━━━━━━━\u001b[0m\u001b[37m\u001b[0m \u001b[1m0s\u001b[0m 3ms/step - accuracy: 0.7954 - loss: 0.4167 - val_accuracy: 0.7983 - val_loss: 0.4209\nEpoch 94/100\n\u001b[1m151/151\u001b[0m \u001b[32m━━━━━━━━━━━━━━━━━━━━\u001b[0m\u001b[37m\u001b[0m \u001b[1m0s\u001b[0m 3ms/step - accuracy: 0.7859 - loss: 0.4324 - val_accuracy: 0.7934 - val_loss: 0.4153\nEpoch 95/100\n\u001b[1m151/151\u001b[0m \u001b[32m━━━━━━━━━━━━━━━━━━━━\u001b[0m\u001b[37m\u001b[0m \u001b[1m0s\u001b[0m 3ms/step - accuracy: 0.7810 - loss: 0.4347 - val_accuracy: 0.7975 - val_loss: 0.4242\nEpoch 96/100\n\u001b[1m151/151\u001b[0m \u001b[32m━━━━━━━━━━━━━━━━━━━━\u001b[0m\u001b[37m\u001b[0m \u001b[1m0s\u001b[0m 3ms/step - accuracy: 0.7730 - loss: 0.4416 - val_accuracy: 0.7967 - val_loss: 0.4154\nEpoch 97/100\n\u001b[1m151/151\u001b[0m \u001b[32m━━━━━━━━━━━━━━━━━━━━\u001b[0m\u001b[37m\u001b[0m \u001b[1m0s\u001b[0m 3ms/step - accuracy: 0.7810 - loss: 0.4327 - val_accuracy: 0.8025 - val_loss: 0.4142\nEpoch 98/100\n\u001b[1m151/151\u001b[0m \u001b[32m━━━━━━━━━━━━━━━━━━━━\u001b[0m\u001b[37m\u001b[0m \u001b[1m0s\u001b[0m 3ms/step - accuracy: 0.7893 - loss: 0.4223 - val_accuracy: 0.8008 - val_loss: 0.4143\nEpoch 99/100\n\u001b[1m151/151\u001b[0m \u001b[32m━━━━━━━━━━━━━━━━━━━━\u001b[0m\u001b[37m\u001b[0m \u001b[1m0s\u001b[0m 3ms/step - accuracy: 0.7884 - loss: 0.4317 - val_accuracy: 0.7975 - val_loss: 0.4114\nEpoch 100/100\n\u001b[1m151/151\u001b[0m \u001b[32m━━━━━━━━━━━━━━━━━━━━\u001b[0m\u001b[37m\u001b[0m \u001b[1m0s\u001b[0m 3ms/step - accuracy: 0.7849 - loss: 0.4257 - val_accuracy: 0.7950 - val_loss: 0.4171\n\u001b[1m38/38\u001b[0m \u001b[32m━━━━━━━━━━━━━━━━━━━━\u001b[0m\u001b[37m\u001b[0m \u001b[1m1s\u001b[0m 8ms/step\nAccuracy: 0.7950207468879668\nClassification Report:\n               precision    recall  f1-score   support\n\n           0       0.73      0.89      0.81       575\n           1       0.88      0.71      0.78       630\n\n    accuracy                           0.80      1205\n   macro avg       0.81      0.80      0.79      1205\nweighted avg       0.81      0.80      0.79      1205\n\n",
          "output_type": "stream"
        }
      ]
    },
    {
      "cell_type": "code",
      "source": [
        "import matplotlib.pyplot as plt\n",
        "\n",
        "# Train the model\n",
        "# Plot training & validation accuracy values\n",
        "plt.plot(history.history['accuracy'])\n",
        "plt.plot(history.history['val_accuracy'])\n",
        "plt.title('Model accuracy')\n",
        "plt.ylabel('Accuracy')\n",
        "plt.xlabel('Epoch')\n",
        "plt.legend(['Train', 'Validation'], loc='upper left')\n",
        "plt.show()\n",
        "\n",
        "# Plot training & validation loss values\n",
        "plt.plot(history.history['loss'])\n",
        "plt.plot(history.history['val_loss'])\n",
        "plt.title('Model loss')\n",
        "plt.ylabel('Loss')\n",
        "plt.xlabel('Epoch')\n",
        "plt.legend(['Train', 'Validation'], loc='upper left')\n",
        "plt.show()\n"
      ],
      "metadata": {
        "execution": {
          "iopub.status.busy": "2024-03-04T02:42:57.098952Z",
          "iopub.execute_input": "2024-03-04T02:42:57.099317Z",
          "iopub.status.idle": "2024-03-04T02:42:57.592568Z",
          "shell.execute_reply.started": "2024-03-04T02:42:57.099287Z",
          "shell.execute_reply": "2024-03-04T02:42:57.591653Z"
        },
        "trusted": true,
        "id": "Vl48aSkUaPkR",
        "outputId": "b431232c-9f5f-4e5c-94bc-8879ba58acf0"
      },
      "execution_count": null,
      "outputs": [
        {
          "output_type": "display_data",
          "data": {
            "text/plain": "<Figure size 640x480 with 1 Axes>",
            "image/png": "[encoded data removed]"
          },
          "metadata": {}
        },
        {
          "output_type": "display_data",
          "data": {
            "text/plain": "<Figure size 640x480 with 1 Axes>",
            "image/png": "[encoded data removed]"
          },
          "metadata": {}
        }
      ]
    },
    {
      "cell_type": "code",
      "source": [
        "from sklearn.model_selection import train_test_split\n",
        "\n",
        "X_train, X_test, y_train, y_test = train_test_split(X, y, test_size=0.2, random_state=42)\n"
      ],
      "metadata": {
        "execution": {
          "iopub.status.busy": "2024-03-03T13:07:17.174214Z",
          "iopub.execute_input": "2024-03-03T13:07:17.174963Z",
          "iopub.status.idle": "2024-03-03T13:07:17.88657Z",
          "shell.execute_reply.started": "2024-03-03T13:07:17.174934Z",
          "shell.execute_reply": "2024-03-03T13:07:17.885726Z"
        },
        "trusted": true,
        "id": "HCY-FgAIaPkT"
      },
      "execution_count": null,
      "outputs": []
    },
    {
      "cell_type": "code",
      "source": [
        "print(X)"
      ],
      "metadata": {
        "execution": {
          "iopub.status.busy": "2024-03-03T13:34:30.28464Z",
          "iopub.execute_input": "2024-03-03T13:34:30.284979Z",
          "iopub.status.idle": "2024-03-03T13:34:30.29065Z",
          "shell.execute_reply.started": "2024-03-03T13:34:30.284954Z",
          "shell.execute_reply": "2024-03-03T13:34:30.28947Z"
        },
        "trusted": true,
        "id": "7tylHh3yaPkU",
        "outputId": "0f38cd29-9508-4ee2-fb11-9695fa68ec34"
      },
      "execution_count": null,
      "outputs": [
        {
          "name": "stdout",
          "text": "[[[[0.28959806]]\n\n  [[0.08114857]]]\n\n\n [[[0.2987013 ]]\n\n  [[0.08967682]]]\n\n\n [[[0.30635622]]\n\n  [[0.05382976]]]\n\n\n ...\n\n\n [[[0.3123867 ]]\n\n  [[0.010434  ]]]\n\n\n [[[0.32626304]]\n\n  [[0.01157788]]]\n\n\n [[[0.31399748]]\n\n  [[0.00848827]]]]\n",
          "output_type": "stream"
        }
      ]
    },
    {
      "cell_type": "code",
      "source": [
        "import numpy as np\n",
        "from sklearn.model_selection import train_test_split\n",
        "from sklearn.preprocessing import StandardScaler\n",
        "from sklearn.metrics import accuracy_score, classification_report\n",
        "from tensorflow.keras.models import Sequential\n",
        "from tensorflow.keras.layers import Dense, Flatten, BatchNormalization, Dropout\n",
        "from tensorflow.keras.optimizers import Adam\n",
        "\n",
        "# Assuming X_train, X_test, y_train, y_test are your training and testing data\n",
        "# Split the data into training and testing sets\n",
        "X_train, X_test, y_train, y_test = train_test_split(X, y, test_size=0.2, random_state=42)\n",
        "\n",
        "# Standardize the data\n",
        "scaler = StandardScaler()\n",
        "X_train_scaled = scaler.fit_transform(X_train)\n",
        "X_test_scaled = scaler.transform(X_test)\n",
        "\n",
        "# Define the model\n",
        "model = Sequential()\n",
        "\n",
        "# Flatten layer to convert 2D input to 1D\n",
        "model.add(Flatten(input_shape=(2, 1)))\n",
        "\n",
        "# Input layer\n",
        "\n",
        "# Hidden layers\n",
        "model.add(Dense(1024, activation='relu'))\n",
        "model.add(Dense(512, activation='relu'))\n",
        "\n",
        "model.add(Dense(256, activation='relu'))\n",
        "model.add(BatchNormalization())\n",
        "model.add(Dense(128, activation='relu'))\n",
        "model.add(BatchNormalization())\n",
        "model.add(Dense(64, activation='relu'))\n",
        "model.add(BatchNormalization())\n",
        "\n",
        "# Output layer\n",
        "model.add(Dense(1, activation='sigmoid')) # Output layer with sigmoid activation for binary classification\n",
        "\n",
        "# Compile the model\n",
        "optimizer = RMSprop(learning_rate=0.001)\n",
        "model.compile(optimizer=optimizer, loss='binary_crossentropy', metrics=['accuracy'])\n",
        "\n",
        "# Display the model summary\n",
        "model.summary()\n",
        "\n",
        "# Train the model\n",
        "model.fit(X_train_scaled, y_train, epochs=100, batch_size=32, validation_data=(X_test_scaled, y_test))\n",
        "\n",
        "# Evaluate the model on the test set\n",
        "y_pred_prob = model.predict(X_test_scaled)\n",
        "y_pred = np.round(y_pred_prob)\n",
        "accuracy = accuracy_score(y_test, y_pred)\n",
        "classification_report_result = classification_report(y_test, y_pred)\n",
        "\n",
        "# Print the results\n",
        "print(\"Accuracy:\", accuracy)\n",
        "print(\"Classification Report:\\n\", classification_report_result)\n"
      ],
      "metadata": {
        "execution": {
          "iopub.status.busy": "2024-03-04T02:32:59.870103Z",
          "iopub.execute_input": "2024-03-04T02:32:59.870879Z",
          "iopub.status.idle": "2024-03-04T02:33:46.592099Z",
          "shell.execute_reply.started": "2024-03-04T02:32:59.87085Z",
          "shell.execute_reply": "2024-03-04T02:33:46.591117Z"
        },
        "trusted": true,
        "id": "m_nwKOrPaPkV",
        "outputId": "17d8b9d5-b69e-477c-d384-d41cd8de1d0b"
      },
      "execution_count": null,
      "outputs": [
        {
          "name": "stderr",
          "text": "/opt/conda/lib/python3.10/site-packages/keras/src/layers/reshaping/flatten.py:37: UserWarning: Do not pass an `input_shape`/`input_dim` argument to a layer. When using Sequential models, prefer using an `Input(shape)` object as the first layer in the model instead.\n  super().__init__(**kwargs)\n",
          "output_type": "stream"
        },
        {
          "output_type": "display_data",
          "data": {
            "text/plain": "\u001b[1mModel: \"sequential_9\"\u001b[0m\n",
            "text/html": "<pre style=\"white-space:pre;overflow-x:auto;line-height:normal;font-family:Menlo,'DejaVu Sans Mono',consolas,'Courier New',monospace\"><span style=\"font-weight: bold\">Model: \"sequential_9\"</span>\n</pre>\n"
          },
          "metadata": {}
        },
        {
          "output_type": "display_data",
          "data": {
            "text/plain": "┏━━━━━━━━━━━━━━━━━━━━━━━━━━━━━━━━━┳━━━━━━━━━━━━━━━━━━━━━━━━┳━━━━━━━━━━━━━━━┓\n┃\u001b[1m \u001b[0m\u001b[1mLayer (type)                   \u001b[0m\u001b[1m \u001b[0m┃\u001b[1m \u001b[0m\u001b[1mOutput Shape          \u001b[0m\u001b[1m \u001b[0m┃\u001b[1m \u001b[0m\u001b[1m      Param #\u001b[0m\u001b[1m \u001b[0m┃\n┡━━━━━━━━━━━━━━━━━━━━━━━━━━━━━━━━━╇━━━━━━━━━━━━━━━━━━━━━━━━╇━━━━━━━━━━━━━━━┩\n│ flatten_9 (\u001b[38;5;33mFlatten\u001b[0m)             │ (\u001b[38;5;45mNone\u001b[0m, \u001b[38;5;34m2\u001b[0m)              │             \u001b[38;5;34m0\u001b[0m │\n├─────────────────────────────────┼────────────────────────┼───────────────┤\n│ dense_34 (\u001b[38;5;33mDense\u001b[0m)                │ (\u001b[38;5;45mNone\u001b[0m, \u001b[38;5;34m1024\u001b[0m)           │         \u001b[38;5;34m3,072\u001b[0m │\n├─────────────────────────────────┼────────────────────────┼───────────────┤\n│ dense_35 (\u001b[38;5;33mDense\u001b[0m)                │ (\u001b[38;5;45mNone\u001b[0m, \u001b[38;5;34m512\u001b[0m)            │       \u001b[38;5;34m524,800\u001b[0m │\n├─────────────────────────────────┼────────────────────────┼───────────────┤\n│ dense_36 (\u001b[38;5;33mDense\u001b[0m)                │ (\u001b[38;5;45mNone\u001b[0m, \u001b[38;5;34m256\u001b[0m)            │       \u001b[38;5;34m131,328\u001b[0m │\n├─────────────────────────────────┼────────────────────────┼───────────────┤\n│ batch_normalization_27          │ (\u001b[38;5;45mNone\u001b[0m, \u001b[38;5;34m256\u001b[0m)            │         \u001b[38;5;34m1,024\u001b[0m │\n│ (\u001b[38;5;33mBatchNormalization\u001b[0m)            │                        │               │\n├─────────────────────────────────┼────────────────────────┼───────────────┤\n│ dense_37 (\u001b[38;5;33mDense\u001b[0m)                │ (\u001b[38;5;45mNone\u001b[0m, \u001b[38;5;34m128\u001b[0m)            │        \u001b[38;5;34m32,896\u001b[0m │\n├─────────────────────────────────┼────────────────────────┼───────────────┤\n│ batch_normalization_28          │ (\u001b[38;5;45mNone\u001b[0m, \u001b[38;5;34m128\u001b[0m)            │           \u001b[38;5;34m512\u001b[0m │\n│ (\u001b[38;5;33mBatchNormalization\u001b[0m)            │                        │               │\n├─────────────────────────────────┼────────────────────────┼───────────────┤\n│ dense_38 (\u001b[38;5;33mDense\u001b[0m)                │ (\u001b[38;5;45mNone\u001b[0m, \u001b[38;5;34m64\u001b[0m)             │         \u001b[38;5;34m8,256\u001b[0m │\n├─────────────────────────────────┼────────────────────────┼───────────────┤\n│ batch_normalization_29          │ (\u001b[38;5;45mNone\u001b[0m, \u001b[38;5;34m64\u001b[0m)             │           \u001b[38;5;34m256\u001b[0m │\n│ (\u001b[38;5;33mBatchNormalization\u001b[0m)            │                        │               │\n├─────────────────────────────────┼────────────────────────┼───────────────┤\n│ dense_39 (\u001b[38;5;33mDense\u001b[0m)                │ (\u001b[38;5;45mNone\u001b[0m, \u001b[38;5;34m1\u001b[0m)              │            \u001b[38;5;34m65\u001b[0m │\n└─────────────────────────────────┴────────────────────────┴───────────────┘\n",
            "text/html": "<pre style=\"white-space:pre;overflow-x:auto;line-height:normal;font-family:Menlo,'DejaVu Sans Mono',consolas,'Courier New',monospace\">┏━━━━━━━━━━━━━━━━━━━━━━━━━━━━━━━━━┳━━━━━━━━━━━━━━━━━━━━━━━━┳━━━━━━━━━━━━━━━┓\n┃<span style=\"font-weight: bold\"> Layer (type)                    </span>┃<span style=\"font-weight: bold\"> Output Shape           </span>┃<span style=\"font-weight: bold\">       Param # </span>┃\n┡━━━━━━━━━━━━━━━━━━━━━━━━━━━━━━━━━╇━━━━━━━━━━━━━━━━━━━━━━━━╇━━━━━━━━━━━━━━━┩\n│ flatten_9 (<span style=\"color: #0087ff; text-decoration-color: #0087ff\">Flatten</span>)             │ (<span style=\"color: #00d7ff; text-decoration-color: #00d7ff\">None</span>, <span style=\"color: #00af00; text-decoration-color: #00af00\">2</span>)              │             <span style=\"color: #00af00; text-decoration-color: #00af00\">0</span> │\n├─────────────────────────────────┼────────────────────────┼───────────────┤\n│ dense_34 (<span style=\"color: #0087ff; text-decoration-color: #0087ff\">Dense</span>)                │ (<span style=\"color: #00d7ff; text-decoration-color: #00d7ff\">None</span>, <span style=\"color: #00af00; text-decoration-color: #00af00\">1024</span>)           │         <span style=\"color: #00af00; text-decoration-color: #00af00\">3,072</span> │\n├─────────────────────────────────┼────────────────────────┼───────────────┤\n│ dense_35 (<span style=\"color: #0087ff; text-decoration-color: #0087ff\">Dense</span>)                │ (<span style=\"color: #00d7ff; text-decoration-color: #00d7ff\">None</span>, <span style=\"color: #00af00; text-decoration-color: #00af00\">512</span>)            │       <span style=\"color: #00af00; text-decoration-color: #00af00\">524,800</span> │\n├─────────────────────────────────┼────────────────────────┼───────────────┤\n│ dense_36 (<span style=\"color: #0087ff; text-decoration-color: #0087ff\">Dense</span>)                │ (<span style=\"color: #00d7ff; text-decoration-color: #00d7ff\">None</span>, <span style=\"color: #00af00; text-decoration-color: #00af00\">256</span>)            │       <span style=\"color: #00af00; text-decoration-color: #00af00\">131,328</span> │\n├─────────────────────────────────┼────────────────────────┼───────────────┤\n│ batch_normalization_27          │ (<span style=\"color: #00d7ff; text-decoration-color: #00d7ff\">None</span>, <span style=\"color: #00af00; text-decoration-color: #00af00\">256</span>)            │         <span style=\"color: #00af00; text-decoration-color: #00af00\">1,024</span> │\n│ (<span style=\"color: #0087ff; text-decoration-color: #0087ff\">BatchNormalization</span>)            │                        │               │\n├─────────────────────────────────┼────────────────────────┼───────────────┤\n│ dense_37 (<span style=\"color: #0087ff; text-decoration-color: #0087ff\">Dense</span>)                │ (<span style=\"color: #00d7ff; text-decoration-color: #00d7ff\">None</span>, <span style=\"color: #00af00; text-decoration-color: #00af00\">128</span>)            │        <span style=\"color: #00af00; text-decoration-color: #00af00\">32,896</span> │\n├─────────────────────────────────┼────────────────────────┼───────────────┤\n│ batch_normalization_28          │ (<span style=\"color: #00d7ff; text-decoration-color: #00d7ff\">None</span>, <span style=\"color: #00af00; text-decoration-color: #00af00\">128</span>)            │           <span style=\"color: #00af00; text-decoration-color: #00af00\">512</span> │\n│ (<span style=\"color: #0087ff; text-decoration-color: #0087ff\">BatchNormalization</span>)            │                        │               │\n├─────────────────────────────────┼────────────────────────┼───────────────┤\n│ dense_38 (<span style=\"color: #0087ff; text-decoration-color: #0087ff\">Dense</span>)                │ (<span style=\"color: #00d7ff; text-decoration-color: #00d7ff\">None</span>, <span style=\"color: #00af00; text-decoration-color: #00af00\">64</span>)             │         <span style=\"color: #00af00; text-decoration-color: #00af00\">8,256</span> │\n├─────────────────────────────────┼────────────────────────┼───────────────┤\n│ batch_normalization_29          │ (<span style=\"color: #00d7ff; text-decoration-color: #00d7ff\">None</span>, <span style=\"color: #00af00; text-decoration-color: #00af00\">64</span>)             │           <span style=\"color: #00af00; text-decoration-color: #00af00\">256</span> │\n│ (<span style=\"color: #0087ff; text-decoration-color: #0087ff\">BatchNormalization</span>)            │                        │               │\n├─────────────────────────────────┼────────────────────────┼───────────────┤\n│ dense_39 (<span style=\"color: #0087ff; text-decoration-color: #0087ff\">Dense</span>)                │ (<span style=\"color: #00d7ff; text-decoration-color: #00d7ff\">None</span>, <span style=\"color: #00af00; text-decoration-color: #00af00\">1</span>)              │            <span style=\"color: #00af00; text-decoration-color: #00af00\">65</span> │\n└─────────────────────────────────┴────────────────────────┴───────────────┘\n</pre>\n"
          },
          "metadata": {}
        },
        {
          "output_type": "display_data",
          "data": {
            "text/plain": "\u001b[1m Total params: \u001b[0m\u001b[38;5;34m702,209\u001b[0m (2.68 MB)\n",
            "text/html": "<pre style=\"white-space:pre;overflow-x:auto;line-height:normal;font-family:Menlo,'DejaVu Sans Mono',consolas,'Courier New',monospace\"><span style=\"font-weight: bold\"> Total params: </span><span style=\"color: #00af00; text-decoration-color: #00af00\">702,209</span> (2.68 MB)\n</pre>\n"
          },
          "metadata": {}
        },
        {
          "output_type": "display_data",
          "data": {
            "text/plain": "\u001b[1m Trainable params: \u001b[0m\u001b[38;5;34m701,313\u001b[0m (2.68 MB)\n",
            "text/html": "<pre style=\"white-space:pre;overflow-x:auto;line-height:normal;font-family:Menlo,'DejaVu Sans Mono',consolas,'Courier New',monospace\"><span style=\"font-weight: bold\"> Trainable params: </span><span style=\"color: #00af00; text-decoration-color: #00af00\">701,313</span> (2.68 MB)\n</pre>\n"
          },
          "metadata": {}
        },
        {
          "output_type": "display_data",
          "data": {
            "text/plain": "\u001b[1m Non-trainable params: \u001b[0m\u001b[38;5;34m896\u001b[0m (3.50 KB)\n",
            "text/html": "<pre style=\"white-space:pre;overflow-x:auto;line-height:normal;font-family:Menlo,'DejaVu Sans Mono',consolas,'Courier New',monospace\"><span style=\"font-weight: bold\"> Non-trainable params: </span><span style=\"color: #00af00; text-decoration-color: #00af00\">896</span> (3.50 KB)\n</pre>\n"
          },
          "metadata": {}
        },
        {
          "name": "stdout",
          "text": "Epoch 1/100\n\u001b[1m 75/151\u001b[0m \u001b[32m━━━━━━━━━\u001b[0m\u001b[37m━━━━━━━━━━━\u001b[0m \u001b[1m0s\u001b[0m 2ms/step - accuracy: 0.7326 - loss: 0.5475",
          "output_type": "stream"
        },
        {
          "name": "stderr",
          "text": "W0000 00:00:1709519582.717404     293 graph_launch.cc:671] Fallback to op-by-op mode because memset node breaks graph update\n",
          "output_type": "stream"
        },
        {
          "name": "stdout",
          "text": "\u001b[1m151/151\u001b[0m \u001b[32m━━━━━━━━━━━━━━━━━━━━\u001b[0m\u001b[37m\u001b[0m \u001b[1m0s\u001b[0m 10ms/step - accuracy: 0.7424 - loss: 0.5299",
          "output_type": "stream"
        },
        {
          "name": "stderr",
          "text": "W0000 00:00:1709519584.599664     295 graph_launch.cc:671] Fallback to op-by-op mode because memset node breaks graph update\n",
          "output_type": "stream"
        },
        {
          "name": "stdout",
          "text": "\u001b[1m151/151\u001b[0m \u001b[32m━━━━━━━━━━━━━━━━━━━━\u001b[0m\u001b[37m\u001b[0m \u001b[1m5s\u001b[0m 15ms/step - accuracy: 0.7424 - loss: 0.5298 - val_accuracy: 0.7975 - val_loss: 0.4795\nEpoch 2/100\n\u001b[1m151/151\u001b[0m \u001b[32m━━━━━━━━━━━━━━━━━━━━\u001b[0m\u001b[37m\u001b[0m \u001b[1m0s\u001b[0m 3ms/step - accuracy: 0.7506 - loss: 0.4947 - val_accuracy: 0.7934 - val_loss: 0.4301\nEpoch 3/100\n\u001b[1m151/151\u001b[0m \u001b[32m━━━━━━━━━━━━━━━━━━━━\u001b[0m\u001b[37m\u001b[0m \u001b[1m0s\u001b[0m 3ms/step - accuracy: 0.7714 - loss: 0.4674 - val_accuracy: 0.7967 - val_loss: 0.4220\nEpoch 4/100\n\u001b[1m151/151\u001b[0m \u001b[32m━━━━━━━━━━━━━━━━━━━━\u001b[0m\u001b[37m\u001b[0m \u001b[1m0s\u001b[0m 3ms/step - accuracy: 0.7616 - loss: 0.4664 - val_accuracy: 0.7917 - val_loss: 0.4264\nEpoch 5/100\n\u001b[1m151/151\u001b[0m \u001b[32m━━━━━━━━━━━━━━━━━━━━\u001b[0m\u001b[37m\u001b[0m \u001b[1m0s\u001b[0m 3ms/step - accuracy: 0.7782 - loss: 0.4549 - val_accuracy: 0.7959 - val_loss: 0.4129\nEpoch 6/100\n\u001b[1m151/151\u001b[0m \u001b[32m━━━━━━━━━━━━━━━━━━━━\u001b[0m\u001b[37m\u001b[0m \u001b[1m0s\u001b[0m 3ms/step - accuracy: 0.7697 - loss: 0.4499 - val_accuracy: 0.8000 - val_loss: 0.4216\nEpoch 7/100\n\u001b[1m151/151\u001b[0m \u001b[32m━━━━━━━━━━━━━━━━━━━━\u001b[0m\u001b[37m\u001b[0m \u001b[1m0s\u001b[0m 3ms/step - accuracy: 0.7808 - loss: 0.4520 - val_accuracy: 0.8000 - val_loss: 0.4140\nEpoch 8/100\n\u001b[1m151/151\u001b[0m \u001b[32m━━━━━━━━━━━━━━━━━━━━\u001b[0m\u001b[37m\u001b[0m \u001b[1m0s\u001b[0m 3ms/step - accuracy: 0.7780 - loss: 0.4428 - val_accuracy: 0.7884 - val_loss: 0.4279\nEpoch 9/100\n\u001b[1m151/151\u001b[0m \u001b[32m━━━━━━━━━━━━━━━━━━━━\u001b[0m\u001b[37m\u001b[0m \u001b[1m0s\u001b[0m 3ms/step - accuracy: 0.7726 - loss: 0.4404 - val_accuracy: 0.7909 - val_loss: 0.4308\nEpoch 10/100\n\u001b[1m151/151\u001b[0m \u001b[32m━━━━━━━━━━━━━━━━━━━━\u001b[0m\u001b[37m\u001b[0m \u001b[1m0s\u001b[0m 3ms/step - accuracy: 0.7792 - loss: 0.4441 - val_accuracy: 0.7909 - val_loss: 0.4206\nEpoch 11/100\n\u001b[1m151/151\u001b[0m \u001b[32m━━━━━━━━━━━━━━━━━━━━\u001b[0m\u001b[37m\u001b[0m \u001b[1m0s\u001b[0m 3ms/step - accuracy: 0.7779 - loss: 0.4450 - val_accuracy: 0.7917 - val_loss: 0.4166\nEpoch 12/100\n\u001b[1m151/151\u001b[0m \u001b[32m━━━━━━━━━━━━━━━━━━━━\u001b[0m\u001b[37m\u001b[0m \u001b[1m0s\u001b[0m 3ms/step - accuracy: 0.7848 - loss: 0.4432 - val_accuracy: 0.7967 - val_loss: 0.4191\nEpoch 13/100\n\u001b[1m151/151\u001b[0m \u001b[32m━━━━━━━━━━━━━━━━━━━━\u001b[0m\u001b[37m\u001b[0m \u001b[1m0s\u001b[0m 3ms/step - accuracy: 0.7857 - loss: 0.4387 - val_accuracy: 0.8008 - val_loss: 0.4197\nEpoch 14/100\n\u001b[1m151/151\u001b[0m \u001b[32m━━━━━━━━━━━━━━━━━━━━\u001b[0m\u001b[37m\u001b[0m \u001b[1m0s\u001b[0m 3ms/step - accuracy: 0.7818 - loss: 0.4445 - val_accuracy: 0.7917 - val_loss: 0.4189\nEpoch 15/100\n\u001b[1m151/151\u001b[0m \u001b[32m━━━━━━━━━━━━━━━━━━━━\u001b[0m\u001b[37m\u001b[0m \u001b[1m0s\u001b[0m 3ms/step - accuracy: 0.7709 - loss: 0.4478 - val_accuracy: 0.7992 - val_loss: 0.4122\nEpoch 16/100\n\u001b[1m151/151\u001b[0m \u001b[32m━━━━━━━━━━━━━━━━━━━━\u001b[0m\u001b[37m\u001b[0m \u001b[1m0s\u001b[0m 2ms/step - accuracy: 0.7791 - loss: 0.4424 - val_accuracy: 0.7917 - val_loss: 0.4193\nEpoch 17/100\n\u001b[1m151/151\u001b[0m \u001b[32m━━━━━━━━━━━━━━━━━━━━\u001b[0m\u001b[37m\u001b[0m \u001b[1m0s\u001b[0m 3ms/step - accuracy: 0.7731 - loss: 0.4545 - val_accuracy: 0.7992 - val_loss: 0.4224\nEpoch 18/100\n\u001b[1m151/151\u001b[0m \u001b[32m━━━━━━━━━━━━━━━━━━━━\u001b[0m\u001b[37m\u001b[0m \u001b[1m0s\u001b[0m 3ms/step - accuracy: 0.7850 - loss: 0.4348 - val_accuracy: 0.7909 - val_loss: 0.4243\nEpoch 19/100\n\u001b[1m151/151\u001b[0m \u001b[32m━━━━━━━━━━━━━━━━━━━━\u001b[0m\u001b[37m\u001b[0m \u001b[1m0s\u001b[0m 3ms/step - accuracy: 0.7751 - loss: 0.4480 - val_accuracy: 0.7900 - val_loss: 0.4145\nEpoch 20/100\n\u001b[1m151/151\u001b[0m \u001b[32m━━━━━━━━━━━━━━━━━━━━\u001b[0m\u001b[37m\u001b[0m \u001b[1m0s\u001b[0m 3ms/step - accuracy: 0.7725 - loss: 0.4422 - val_accuracy: 0.7900 - val_loss: 0.4166\nEpoch 21/100\n\u001b[1m151/151\u001b[0m \u001b[32m━━━━━━━━━━━━━━━━━━━━\u001b[0m\u001b[37m\u001b[0m \u001b[1m0s\u001b[0m 3ms/step - accuracy: 0.7915 - loss: 0.4323 - val_accuracy: 0.8100 - val_loss: 0.4424\nEpoch 22/100\n\u001b[1m151/151\u001b[0m \u001b[32m━━━━━━━━━━━━━━━━━━━━\u001b[0m\u001b[37m\u001b[0m \u001b[1m0s\u001b[0m 3ms/step - accuracy: 0.7910 - loss: 0.4277 - val_accuracy: 0.7859 - val_loss: 0.4274\nEpoch 23/100\n\u001b[1m151/151\u001b[0m \u001b[32m━━━━━━━━━━━━━━━━━━━━\u001b[0m\u001b[37m\u001b[0m \u001b[1m0s\u001b[0m 3ms/step - accuracy: 0.7803 - loss: 0.4388 - val_accuracy: 0.7909 - val_loss: 0.4253\nEpoch 24/100\n\u001b[1m151/151\u001b[0m \u001b[32m━━━━━━━━━━━━━━━━━━━━\u001b[0m\u001b[37m\u001b[0m \u001b[1m0s\u001b[0m 3ms/step - accuracy: 0.7853 - loss: 0.4315 - val_accuracy: 0.7942 - val_loss: 0.4161\nEpoch 25/100\n\u001b[1m151/151\u001b[0m \u001b[32m━━━━━━━━━━━━━━━━━━━━\u001b[0m\u001b[37m\u001b[0m \u001b[1m0s\u001b[0m 3ms/step - accuracy: 0.7718 - loss: 0.4455 - val_accuracy: 0.7842 - val_loss: 0.4298\nEpoch 26/100\n\u001b[1m151/151\u001b[0m \u001b[32m━━━━━━━━━━━━━━━━━━━━\u001b[0m\u001b[37m\u001b[0m \u001b[1m0s\u001b[0m 3ms/step - accuracy: 0.7864 - loss: 0.4371 - val_accuracy: 0.7983 - val_loss: 0.4154\nEpoch 27/100\n\u001b[1m151/151\u001b[0m \u001b[32m━━━━━━━━━━━━━━━━━━━━\u001b[0m\u001b[37m\u001b[0m \u001b[1m0s\u001b[0m 3ms/step - accuracy: 0.7837 - loss: 0.4333 - val_accuracy: 0.7975 - val_loss: 0.4196\nEpoch 28/100\n\u001b[1m151/151\u001b[0m \u001b[32m━━━━━━━━━━━━━━━━━━━━\u001b[0m\u001b[37m\u001b[0m \u001b[1m0s\u001b[0m 3ms/step - accuracy: 0.7742 - loss: 0.4321 - val_accuracy: 0.8008 - val_loss: 0.4155\nEpoch 29/100\n\u001b[1m151/151\u001b[0m \u001b[32m━━━━━━━━━━━━━━━━━━━━\u001b[0m\u001b[37m\u001b[0m \u001b[1m0s\u001b[0m 3ms/step - accuracy: 0.7856 - loss: 0.4364 - val_accuracy: 0.7950 - val_loss: 0.4333\nEpoch 30/100\n\u001b[1m151/151\u001b[0m \u001b[32m━━━━━━━━━━━━━━━━━━━━\u001b[0m\u001b[37m\u001b[0m \u001b[1m0s\u001b[0m 3ms/step - accuracy: 0.7873 - loss: 0.4287 - val_accuracy: 0.7900 - val_loss: 0.4155\nEpoch 31/100\n\u001b[1m151/151\u001b[0m \u001b[32m━━━━━━━━━━━━━━━━━━━━\u001b[0m\u001b[37m\u001b[0m \u001b[1m0s\u001b[0m 3ms/step - accuracy: 0.7839 - loss: 0.4327 - val_accuracy: 0.7942 - val_loss: 0.4190\nEpoch 32/100\n\u001b[1m151/151\u001b[0m \u001b[32m━━━━━━━━━━━━━━━━━━━━\u001b[0m\u001b[37m\u001b[0m \u001b[1m0s\u001b[0m 3ms/step - accuracy: 0.7867 - loss: 0.4348 - val_accuracy: 0.7942 - val_loss: 0.4107\nEpoch 33/100\n\u001b[1m151/151\u001b[0m \u001b[32m━━━━━━━━━━━━━━━━━━━━\u001b[0m\u001b[37m\u001b[0m \u001b[1m0s\u001b[0m 3ms/step - accuracy: 0.7799 - loss: 0.4365 - val_accuracy: 0.7942 - val_loss: 0.4131\nEpoch 34/100\n\u001b[1m151/151\u001b[0m \u001b[32m━━━━━━━━━━━━━━━━━━━━\u001b[0m\u001b[37m\u001b[0m \u001b[1m0s\u001b[0m 3ms/step - accuracy: 0.7816 - loss: 0.4355 - val_accuracy: 0.7992 - val_loss: 0.4139\nEpoch 35/100\n\u001b[1m151/151\u001b[0m \u001b[32m━━━━━━━━━━━━━━━━━━━━\u001b[0m\u001b[37m\u001b[0m \u001b[1m0s\u001b[0m 3ms/step - accuracy: 0.7789 - loss: 0.4400 - val_accuracy: 0.7959 - val_loss: 0.4243\nEpoch 36/100\n\u001b[1m151/151\u001b[0m \u001b[32m━━━━━━━━━━━━━━━━━━━━\u001b[0m\u001b[37m\u001b[0m \u001b[1m0s\u001b[0m 3ms/step - accuracy: 0.7760 - loss: 0.4397 - val_accuracy: 0.7884 - val_loss: 0.4198\nEpoch 37/100\n\u001b[1m151/151\u001b[0m \u001b[32m━━━━━━━━━━━━━━━━━━━━\u001b[0m\u001b[37m\u001b[0m \u001b[1m0s\u001b[0m 3ms/step - accuracy: 0.7771 - loss: 0.4358 - val_accuracy: 0.8000 - val_loss: 0.4169\nEpoch 38/100\n\u001b[1m151/151\u001b[0m \u001b[32m━━━━━━━━━━━━━━━━━━━━\u001b[0m\u001b[37m\u001b[0m \u001b[1m0s\u001b[0m 3ms/step - accuracy: 0.7991 - loss: 0.4155 - val_accuracy: 0.7975 - val_loss: 0.4186\nEpoch 39/100\n\u001b[1m151/151\u001b[0m \u001b[32m━━━━━━━━━━━━━━━━━━━━\u001b[0m\u001b[37m\u001b[0m \u001b[1m0s\u001b[0m 3ms/step - accuracy: 0.7903 - loss: 0.4269 - val_accuracy: 0.8008 - val_loss: 0.4178\nEpoch 40/100\n\u001b[1m151/151\u001b[0m \u001b[32m━━━━━━━━━━━━━━━━━━━━\u001b[0m\u001b[37m\u001b[0m \u001b[1m0s\u001b[0m 3ms/step - accuracy: 0.7870 - loss: 0.4286 - val_accuracy: 0.7942 - val_loss: 0.4150\nEpoch 41/100\n\u001b[1m151/151\u001b[0m \u001b[32m━━━━━━━━━━━━━━━━━━━━\u001b[0m\u001b[37m\u001b[0m \u001b[1m0s\u001b[0m 3ms/step - accuracy: 0.7796 - loss: 0.4408 - val_accuracy: 0.8017 - val_loss: 0.4214\nEpoch 42/100\n\u001b[1m151/151\u001b[0m \u001b[32m━━━━━━━━━━━━━━━━━━━━\u001b[0m\u001b[37m\u001b[0m \u001b[1m0s\u001b[0m 3ms/step - accuracy: 0.7867 - loss: 0.4301 - val_accuracy: 0.7983 - val_loss: 0.4221\nEpoch 43/100\n\u001b[1m151/151\u001b[0m \u001b[32m━━━━━━━━━━━━━━━━━━━━\u001b[0m\u001b[37m\u001b[0m \u001b[1m0s\u001b[0m 3ms/step - accuracy: 0.7842 - loss: 0.4362 - val_accuracy: 0.7992 - val_loss: 0.4276\nEpoch 44/100\n\u001b[1m151/151\u001b[0m \u001b[32m━━━━━━━━━━━━━━━━━━━━\u001b[0m\u001b[37m\u001b[0m \u001b[1m0s\u001b[0m 3ms/step - accuracy: 0.7935 - loss: 0.4295 - val_accuracy: 0.7900 - val_loss: 0.4211\nEpoch 45/100\n\u001b[1m151/151\u001b[0m \u001b[32m━━━━━━━━━━━━━━━━━━━━\u001b[0m\u001b[37m\u001b[0m \u001b[1m0s\u001b[0m 3ms/step - accuracy: 0.7873 - loss: 0.4260 - val_accuracy: 0.8017 - val_loss: 0.4123\nEpoch 46/100\n\u001b[1m151/151\u001b[0m \u001b[32m━━━━━━━━━━━━━━━━━━━━\u001b[0m\u001b[37m\u001b[0m \u001b[1m0s\u001b[0m 3ms/step - accuracy: 0.7851 - loss: 0.4316 - val_accuracy: 0.7983 - val_loss: 0.4143\nEpoch 47/100\n\u001b[1m151/151\u001b[0m \u001b[32m━━━━━━━━━━━━━━━━━━━━\u001b[0m\u001b[37m\u001b[0m \u001b[1m0s\u001b[0m 3ms/step - accuracy: 0.7788 - loss: 0.4338 - val_accuracy: 0.7983 - val_loss: 0.4136\nEpoch 48/100\n\u001b[1m151/151\u001b[0m \u001b[32m━━━━━━━━━━━━━━━━━━━━\u001b[0m\u001b[37m\u001b[0m \u001b[1m0s\u001b[0m 3ms/step - accuracy: 0.8026 - loss: 0.4162 - val_accuracy: 0.7776 - val_loss: 0.4420\nEpoch 49/100\n\u001b[1m151/151\u001b[0m \u001b[32m━━━━━━━━━━━━━━━━━━━━\u001b[0m\u001b[37m\u001b[0m \u001b[1m0s\u001b[0m 3ms/step - accuracy: 0.7878 - loss: 0.4263 - val_accuracy: 0.8017 - val_loss: 0.4156\nEpoch 50/100\n\u001b[1m151/151\u001b[0m \u001b[32m━━━━━━━━━━━━━━━━━━━━\u001b[0m\u001b[37m\u001b[0m \u001b[1m0s\u001b[0m 3ms/step - accuracy: 0.8004 - loss: 0.4136 - val_accuracy: 0.7900 - val_loss: 0.4220\nEpoch 51/100\n\u001b[1m151/151\u001b[0m \u001b[32m━━━━━━━━━━━━━━━━━━━━\u001b[0m\u001b[37m\u001b[0m \u001b[1m0s\u001b[0m 3ms/step - accuracy: 0.7945 - loss: 0.4146 - val_accuracy: 0.7959 - val_loss: 0.4367\nEpoch 52/100\n\u001b[1m151/151\u001b[0m \u001b[32m━━━━━━━━━━━━━━━━━━━━\u001b[0m\u001b[37m\u001b[0m \u001b[1m0s\u001b[0m 3ms/step - accuracy: 0.7951 - loss: 0.4175 - val_accuracy: 0.8025 - val_loss: 0.4160\nEpoch 53/100\n\u001b[1m151/151\u001b[0m \u001b[32m━━━━━━━━━━━━━━━━━━━━\u001b[0m\u001b[37m\u001b[0m \u001b[1m0s\u001b[0m 3ms/step - accuracy: 0.7800 - loss: 0.4376 - val_accuracy: 0.7992 - val_loss: 0.4294\nEpoch 54/100\n\u001b[1m151/151\u001b[0m \u001b[32m━━━━━━━━━━━━━━━━━━━━\u001b[0m\u001b[37m\u001b[0m \u001b[1m0s\u001b[0m 3ms/step - accuracy: 0.7892 - loss: 0.4226 - val_accuracy: 0.7959 - val_loss: 0.4240\nEpoch 55/100\n\u001b[1m151/151\u001b[0m \u001b[32m━━━━━━━━━━━━━━━━━━━━\u001b[0m\u001b[37m\u001b[0m \u001b[1m0s\u001b[0m 3ms/step - accuracy: 0.7841 - loss: 0.4272 - val_accuracy: 0.7959 - val_loss: 0.4237\nEpoch 56/100\n\u001b[1m151/151\u001b[0m \u001b[32m━━━━━━━━━━━━━━━━━━━━\u001b[0m\u001b[37m\u001b[0m \u001b[1m0s\u001b[0m 3ms/step - accuracy: 0.7835 - loss: 0.4348 - val_accuracy: 0.7992 - val_loss: 0.4172\nEpoch 57/100\n\u001b[1m151/151\u001b[0m \u001b[32m━━━━━━━━━━━━━━━━━━━━\u001b[0m\u001b[37m\u001b[0m \u001b[1m0s\u001b[0m 3ms/step - accuracy: 0.7909 - loss: 0.4238 - val_accuracy: 0.8008 - val_loss: 0.4241\nEpoch 58/100\n\u001b[1m151/151\u001b[0m \u001b[32m━━━━━━━━━━━━━━━━━━━━\u001b[0m\u001b[37m\u001b[0m \u001b[1m0s\u001b[0m 3ms/step - accuracy: 0.7807 - loss: 0.4337 - val_accuracy: 0.7900 - val_loss: 0.4175\nEpoch 59/100\n\u001b[1m151/151\u001b[0m \u001b[32m━━━━━━━━━━━━━━━━━━━━\u001b[0m\u001b[37m\u001b[0m \u001b[1m0s\u001b[0m 2ms/step - accuracy: 0.7813 - loss: 0.4297 - val_accuracy: 0.7975 - val_loss: 0.4156\nEpoch 60/100\n\u001b[1m151/151\u001b[0m \u001b[32m━━━━━━━━━━━━━━━━━━━━\u001b[0m\u001b[37m\u001b[0m \u001b[1m0s\u001b[0m 2ms/step - accuracy: 0.7912 - loss: 0.4274 - val_accuracy: 0.7934 - val_loss: 0.4134\nEpoch 61/100\n\u001b[1m151/151\u001b[0m \u001b[32m━━━━━━━━━━━━━━━━━━━━\u001b[0m\u001b[37m\u001b[0m \u001b[1m0s\u001b[0m 2ms/step - accuracy: 0.7871 - loss: 0.4269 - val_accuracy: 0.7967 - val_loss: 0.4222\nEpoch 62/100\n\u001b[1m151/151\u001b[0m \u001b[32m━━━━━━━━━━━━━━━━━━━━\u001b[0m\u001b[37m\u001b[0m \u001b[1m0s\u001b[0m 2ms/step - accuracy: 0.7916 - loss: 0.4229 - val_accuracy: 0.7934 - val_loss: 0.4341\nEpoch 63/100\n\u001b[1m151/151\u001b[0m \u001b[32m━━━━━━━━━━━━━━━━━━━━\u001b[0m\u001b[37m\u001b[0m \u001b[1m0s\u001b[0m 2ms/step - accuracy: 0.7883 - loss: 0.4331 - val_accuracy: 0.7967 - val_loss: 0.4144\nEpoch 64/100\n\u001b[1m151/151\u001b[0m \u001b[32m━━━━━━━━━━━━━━━━━━━━\u001b[0m\u001b[37m\u001b[0m \u001b[1m0s\u001b[0m 2ms/step - accuracy: 0.7838 - loss: 0.4405 - val_accuracy: 0.7934 - val_loss: 0.4320\nEpoch 65/100\n\u001b[1m151/151\u001b[0m \u001b[32m━━━━━━━━━━━━━━━━━━━━\u001b[0m\u001b[37m\u001b[0m \u001b[1m0s\u001b[0m 2ms/step - accuracy: 0.7918 - loss: 0.4226 - val_accuracy: 0.8017 - val_loss: 0.4135\nEpoch 66/100\n\u001b[1m151/151\u001b[0m \u001b[32m━━━━━━━━━━━━━━━━━━━━\u001b[0m\u001b[37m\u001b[0m \u001b[1m0s\u001b[0m 2ms/step - accuracy: 0.7860 - loss: 0.4379 - val_accuracy: 0.7909 - val_loss: 0.4281\nEpoch 67/100\n\u001b[1m151/151\u001b[0m \u001b[32m━━━━━━━━━━━━━━━━━━━━\u001b[0m\u001b[37m\u001b[0m \u001b[1m0s\u001b[0m 2ms/step - accuracy: 0.7945 - loss: 0.4167 - val_accuracy: 0.7917 - val_loss: 0.4172\nEpoch 68/100\n\u001b[1m151/151\u001b[0m \u001b[32m━━━━━━━━━━━━━━━━━━━━\u001b[0m\u001b[37m\u001b[0m \u001b[1m0s\u001b[0m 3ms/step - accuracy: 0.7807 - loss: 0.4406 - val_accuracy: 0.7992 - val_loss: 0.4171\nEpoch 69/100\n\u001b[1m151/151\u001b[0m \u001b[32m━━━━━━━━━━━━━━━━━━━━\u001b[0m\u001b[37m\u001b[0m \u001b[1m0s\u001b[0m 3ms/step - accuracy: 0.7969 - loss: 0.4115 - val_accuracy: 0.7942 - val_loss: 0.4196\nEpoch 70/100\n\u001b[1m151/151\u001b[0m \u001b[32m━━━━━━━━━━━━━━━━━━━━\u001b[0m\u001b[37m\u001b[0m \u001b[1m0s\u001b[0m 3ms/step - accuracy: 0.7862 - loss: 0.4275 - val_accuracy: 0.7950 - val_loss: 0.4257\nEpoch 71/100\n\u001b[1m151/151\u001b[0m \u001b[32m━━━━━━━━━━━━━━━━━━━━\u001b[0m\u001b[37m\u001b[0m \u001b[1m0s\u001b[0m 3ms/step - accuracy: 0.7878 - loss: 0.4257 - val_accuracy: 0.7983 - val_loss: 0.4354\nEpoch 72/100\n\u001b[1m151/151\u001b[0m \u001b[32m━━━━━━━━━━━━━━━━━━━━\u001b[0m\u001b[37m\u001b[0m \u001b[1m0s\u001b[0m 3ms/step - accuracy: 0.7798 - loss: 0.4307 - val_accuracy: 0.7967 - val_loss: 0.4156\nEpoch 73/100\n\u001b[1m151/151\u001b[0m \u001b[32m━━━━━━━━━━━━━━━━━━━━\u001b[0m\u001b[37m\u001b[0m \u001b[1m0s\u001b[0m 3ms/step - accuracy: 0.7937 - loss: 0.4242 - val_accuracy: 0.7975 - val_loss: 0.4080\nEpoch 74/100\n\u001b[1m151/151\u001b[0m \u001b[32m━━━━━━━━━━━━━━━━━━━━\u001b[0m\u001b[37m\u001b[0m \u001b[1m0s\u001b[0m 3ms/step - accuracy: 0.7941 - loss: 0.4181 - val_accuracy: 0.7942 - val_loss: 0.4173\nEpoch 75/100\n\u001b[1m151/151\u001b[0m \u001b[32m━━━━━━━━━━━━━━━━━━━━\u001b[0m\u001b[37m\u001b[0m \u001b[1m0s\u001b[0m 3ms/step - accuracy: 0.7871 - loss: 0.4270 - val_accuracy: 0.7983 - val_loss: 0.4146\nEpoch 76/100\n\u001b[1m151/151\u001b[0m \u001b[32m━━━━━━━━━━━━━━━━━━━━\u001b[0m\u001b[37m\u001b[0m \u001b[1m0s\u001b[0m 3ms/step - accuracy: 0.7890 - loss: 0.4216 - val_accuracy: 0.7768 - val_loss: 0.4335\nEpoch 77/100\n\u001b[1m151/151\u001b[0m \u001b[32m━━━━━━━━━━━━━━━━━━━━\u001b[0m\u001b[37m\u001b[0m \u001b[1m0s\u001b[0m 3ms/step - accuracy: 0.7884 - loss: 0.4266 - val_accuracy: 0.7992 - val_loss: 0.4103\nEpoch 78/100\n\u001b[1m151/151\u001b[0m \u001b[32m━━━━━━━━━━━━━━━━━━━━\u001b[0m\u001b[37m\u001b[0m \u001b[1m0s\u001b[0m 3ms/step - accuracy: 0.7778 - loss: 0.4441 - val_accuracy: 0.7967 - val_loss: 0.4188\nEpoch 79/100\n\u001b[1m151/151\u001b[0m \u001b[32m━━━━━━━━━━━━━━━━━━━━\u001b[0m\u001b[37m\u001b[0m \u001b[1m0s\u001b[0m 3ms/step - accuracy: 0.7823 - loss: 0.4306 - val_accuracy: 0.7934 - val_loss: 0.4167\nEpoch 80/100\n\u001b[1m151/151\u001b[0m \u001b[32m━━━━━━━━━━━━━━━━━━━━\u001b[0m\u001b[37m\u001b[0m \u001b[1m0s\u001b[0m 3ms/step - accuracy: 0.7972 - loss: 0.4175 - val_accuracy: 0.7992 - val_loss: 0.4102\nEpoch 81/100\n\u001b[1m151/151\u001b[0m \u001b[32m━━━━━━━━━━━━━━━━━━━━\u001b[0m\u001b[37m\u001b[0m \u001b[1m0s\u001b[0m 3ms/step - accuracy: 0.7922 - loss: 0.4207 - val_accuracy: 0.8017 - val_loss: 0.4176\nEpoch 82/100\n\u001b[1m151/151\u001b[0m \u001b[32m━━━━━━━━━━━━━━━━━━━━\u001b[0m\u001b[37m\u001b[0m \u001b[1m0s\u001b[0m 3ms/step - accuracy: 0.7869 - loss: 0.4238 - val_accuracy: 0.7660 - val_loss: 0.4387\nEpoch 83/100\n\u001b[1m151/151\u001b[0m \u001b[32m━━━━━━━━━━━━━━━━━━━━\u001b[0m\u001b[37m\u001b[0m \u001b[1m0s\u001b[0m 3ms/step - accuracy: 0.7836 - loss: 0.4316 - val_accuracy: 0.8008 - val_loss: 0.4094\nEpoch 84/100\n\u001b[1m151/151\u001b[0m \u001b[32m━━━━━━━━━━━━━━━━━━━━\u001b[0m\u001b[37m\u001b[0m \u001b[1m0s\u001b[0m 3ms/step - accuracy: 0.7893 - loss: 0.4217 - val_accuracy: 0.7959 - val_loss: 0.4151\nEpoch 85/100\n\u001b[1m151/151\u001b[0m \u001b[32m━━━━━━━━━━━━━━━━━━━━\u001b[0m\u001b[37m\u001b[0m \u001b[1m0s\u001b[0m 3ms/step - accuracy: 0.7929 - loss: 0.4202 - val_accuracy: 0.8000 - val_loss: 0.4159\nEpoch 86/100\n\u001b[1m151/151\u001b[0m \u001b[32m━━━━━━━━━━━━━━━━━━━━\u001b[0m\u001b[37m\u001b[0m \u001b[1m0s\u001b[0m 3ms/step - accuracy: 0.7941 - loss: 0.4237 - val_accuracy: 0.8017 - val_loss: 0.4101\nEpoch 87/100\n\u001b[1m151/151\u001b[0m \u001b[32m━━━━━━━━━━━━━━━━━━━━\u001b[0m\u001b[37m\u001b[0m \u001b[1m0s\u001b[0m 3ms/step - accuracy: 0.7927 - loss: 0.4227 - val_accuracy: 0.7975 - val_loss: 0.4192\nEpoch 88/100\n\u001b[1m151/151\u001b[0m \u001b[32m━━━━━━━━━━━━━━━━━━━━\u001b[0m\u001b[37m\u001b[0m \u001b[1m0s\u001b[0m 3ms/step - accuracy: 0.7849 - loss: 0.4331 - val_accuracy: 0.7992 - val_loss: 0.4248\nEpoch 89/100\n\u001b[1m151/151\u001b[0m \u001b[32m━━━━━━━━━━━━━━━━━━━━\u001b[0m\u001b[37m\u001b[0m \u001b[1m0s\u001b[0m 3ms/step - accuracy: 0.7947 - loss: 0.4127 - val_accuracy: 0.7992 - val_loss: 0.4141\nEpoch 90/100\n\u001b[1m151/151\u001b[0m \u001b[32m━━━━━━━━━━━━━━━━━━━━\u001b[0m\u001b[37m\u001b[0m \u001b[1m0s\u001b[0m 3ms/step - accuracy: 0.7746 - loss: 0.4298 - val_accuracy: 0.8008 - val_loss: 0.4175\nEpoch 91/100\n\u001b[1m151/151\u001b[0m \u001b[32m━━━━━━━━━━━━━━━━━━━━\u001b[0m\u001b[37m\u001b[0m \u001b[1m0s\u001b[0m 3ms/step - accuracy: 0.8035 - loss: 0.4151 - val_accuracy: 0.8008 - val_loss: 0.4088\nEpoch 92/100\n\u001b[1m151/151\u001b[0m \u001b[32m━━━━━━━━━━━━━━━━━━━━\u001b[0m\u001b[37m\u001b[0m \u001b[1m0s\u001b[0m 3ms/step - accuracy: 0.7906 - loss: 0.4230 - val_accuracy: 0.7925 - val_loss: 0.4252\nEpoch 93/100\n\u001b[1m151/151\u001b[0m \u001b[32m━━━━━━━━━━━━━━━━━━━━\u001b[0m\u001b[37m\u001b[0m \u001b[1m0s\u001b[0m 3ms/step - accuracy: 0.7752 - loss: 0.4338 - val_accuracy: 0.7942 - val_loss: 0.4129\nEpoch 94/100\n\u001b[1m151/151\u001b[0m \u001b[32m━━━━━━━━━━━━━━━━━━━━\u001b[0m\u001b[37m\u001b[0m \u001b[1m0s\u001b[0m 3ms/step - accuracy: 0.7783 - loss: 0.4317 - val_accuracy: 0.8008 - val_loss: 0.4219\nEpoch 95/100\n\u001b[1m151/151\u001b[0m \u001b[32m━━━━━━━━━━━━━━━━━━━━\u001b[0m\u001b[37m\u001b[0m \u001b[1m0s\u001b[0m 3ms/step - accuracy: 0.7948 - loss: 0.4174 - val_accuracy: 0.7909 - val_loss: 0.4594\nEpoch 96/100\n\u001b[1m151/151\u001b[0m \u001b[32m━━━━━━━━━━━━━━━━━━━━\u001b[0m\u001b[37m\u001b[0m \u001b[1m0s\u001b[0m 3ms/step - accuracy: 0.7809 - loss: 0.4288 - val_accuracy: 0.8000 - val_loss: 0.4165\nEpoch 97/100\n\u001b[1m151/151\u001b[0m \u001b[32m━━━━━━━━━━━━━━━━━━━━\u001b[0m\u001b[37m\u001b[0m \u001b[1m0s\u001b[0m 3ms/step - accuracy: 0.7951 - loss: 0.4149 - val_accuracy: 0.8025 - val_loss: 0.4156\nEpoch 98/100\n\u001b[1m151/151\u001b[0m \u001b[32m━━━━━━━━━━━━━━━━━━━━\u001b[0m\u001b[37m\u001b[0m \u001b[1m0s\u001b[0m 3ms/step - accuracy: 0.7847 - loss: 0.4252 - val_accuracy: 0.7959 - val_loss: 0.4099\nEpoch 99/100\n\u001b[1m151/151\u001b[0m \u001b[32m━━━━━━━━━━━━━━━━━━━━\u001b[0m\u001b[37m\u001b[0m \u001b[1m0s\u001b[0m 3ms/step - accuracy: 0.7880 - loss: 0.4198 - val_accuracy: 0.8000 - val_loss: 0.4126\nEpoch 100/100\n\u001b[1m151/151\u001b[0m \u001b[32m━━━━━━━━━━━━━━━━━━━━\u001b[0m\u001b[37m\u001b[0m \u001b[1m0s\u001b[0m 3ms/step - accuracy: 0.8000 - loss: 0.4061 - val_accuracy: 0.7983 - val_loss: 0.4137\n\u001b[1m 1/38\u001b[0m \u001b[37m━━━━━━━━━━━━━━━━━━━━\u001b[0m \u001b[1m9s\u001b[0m 267ms/step",
          "output_type": "stream"
        },
        {
          "name": "stderr",
          "text": "W0000 00:00:1709519626.188774     292 graph_launch.cc:671] Fallback to op-by-op mode because memset node breaks graph update\n",
          "output_type": "stream"
        },
        {
          "name": "stdout",
          "text": "\u001b[1m38/38\u001b[0m \u001b[32m━━━━━━━━━━━━━━━━━━━━\u001b[0m\u001b[37m\u001b[0m \u001b[1m1s\u001b[0m 10ms/step\nAccuracy: 0.7983402489626557\nClassification Report:\n               precision    recall  f1-score   support\n\n           0       0.73      0.92      0.81       575\n           1       0.90      0.69      0.78       630\n\n    accuracy                           0.80      1205\n   macro avg       0.82      0.80      0.80      1205\nweighted avg       0.82      0.80      0.80      1205\n\n",
          "output_type": "stream"
        }
      ]
    },
    {
      "cell_type": "code",
      "source": [
        "from sklearn.metrics import accuracy_score, confusion_matrix"
      ],
      "metadata": {
        "execution": {
          "iopub.status.busy": "2024-03-04T02:18:16.586973Z",
          "iopub.execute_input": "2024-03-04T02:18:16.587866Z",
          "iopub.status.idle": "2024-03-04T02:18:16.591972Z",
          "shell.execute_reply.started": "2024-03-04T02:18:16.587821Z",
          "shell.execute_reply": "2024-03-04T02:18:16.590993Z"
        },
        "trusted": true,
        "id": "MQmHySzgaPkW"
      },
      "execution_count": null,
      "outputs": []
    },
    {
      "cell_type": "code",
      "source": [
        "conf_matrix = confusion_matrix(y_test, y_pred)\n",
        "print(\"Confusion Matrix:\\n\", conf_matrix)"
      ],
      "metadata": {
        "execution": {
          "iopub.status.busy": "2024-03-04T02:43:56.475494Z",
          "iopub.execute_input": "2024-03-04T02:43:56.476108Z",
          "iopub.status.idle": "2024-03-04T02:43:56.483086Z",
          "shell.execute_reply.started": "2024-03-04T02:43:56.476078Z",
          "shell.execute_reply": "2024-03-04T02:43:56.482108Z"
        },
        "trusted": true,
        "id": "8KS34nuWaPkW",
        "outputId": "01954928-2720-4497-c96f-1e18a8006673"
      },
      "execution_count": null,
      "outputs": [
        {
          "name": "stdout",
          "text": "Confusion Matrix:\n [[513  62]\n [185 445]]\n",
          "output_type": "stream"
        }
      ]
    },
    {
      "cell_type": "code",
      "source": [
        "import matplotlib.pyplot as plt\n",
        "import seaborn as sns"
      ],
      "metadata": {
        "execution": {
          "iopub.status.busy": "2024-03-04T02:46:24.301727Z",
          "iopub.execute_input": "2024-03-04T02:46:24.302457Z",
          "iopub.status.idle": "2024-03-04T02:46:24.502027Z",
          "shell.execute_reply.started": "2024-03-04T02:46:24.302425Z",
          "shell.execute_reply": "2024-03-04T02:46:24.501258Z"
        },
        "trusted": true,
        "id": "K_QAw2Z0aPkX"
      },
      "execution_count": null,
      "outputs": []
    },
    {
      "cell_type": "code",
      "source": [
        "# Define class labels\n",
        "class_labels = ['Not Drowsy', 'Drowsy']\n",
        "\n",
        "# Create a heatmap for the confusion matrix with proper labels\n",
        "plt.figure(figsize=(6, 6))\n",
        "sns.heatmap(conf_matrix, annot=True, fmt='d', cmap='Blues', cbar=False,\n",
        "            xticklabels=class_labels,\n",
        "            yticklabels=class_labels)\n",
        "plt.xlabel('Predicted Label')\n",
        "plt.ylabel('True Label')\n",
        "plt.title('Confusion Matrix')\n",
        "plt.show()\n"
      ],
      "metadata": {
        "execution": {
          "iopub.status.busy": "2024-03-04T03:04:05.500069Z",
          "iopub.execute_input": "2024-03-04T03:04:05.500693Z",
          "iopub.status.idle": "2024-03-04T03:04:05.620377Z",
          "shell.execute_reply.started": "2024-03-04T03:04:05.500661Z",
          "shell.execute_reply": "2024-03-04T03:04:05.619252Z"
        },
        "trusted": true,
        "id": "HLMHxF9laPkX",
        "outputId": "f75c2104-3148-4ad3-f912-705c44844478"
      },
      "execution_count": null,
      "outputs": [
        {
          "output_type": "display_data",
          "data": {
            "text/plain": "<Figure size 600x600 with 1 Axes>",
            "image/png": "[encoded data removed]"
          },
          "metadata": {}
        }
      ]
    },
    {
      "cell_type": "code",
      "source": [
        "model.save('drowsy.h5')"
      ],
      "metadata": {
        "execution": {
          "iopub.status.busy": "2024-02-26T09:04:41.438935Z",
          "iopub.execute_input": "2024-02-26T09:04:41.439719Z",
          "iopub.status.idle": "2024-02-26T09:04:41.494839Z",
          "shell.execute_reply.started": "2024-02-26T09:04:41.439685Z",
          "shell.execute_reply": "2024-02-26T09:04:41.493877Z"
        },
        "trusted": true,
        "id": "L70yFtL3aPkY",
        "outputId": "8a949d93-54b1-4dcf-c639-0ce953032a69"
      },
      "execution_count": null,
      "outputs": [
        {
          "name": "stderr",
          "text": "/opt/conda/lib/python3.10/site-packages/keras/src/engine/training.py:3103: UserWarning: You are saving your model as an HDF5 file via `model.save()`. This file format is considered legacy. We recommend using instead the native Keras format, e.g. `model.save('my_model.keras')`.\n  saving_api.save_model(\n",
          "output_type": "stream"
        }
      ]
    },
    {
      "cell_type": "code",
      "source": [
        "import numpy as np\n",
        "\n",
        "# Original list\n",
        "fake_data = np.array([0.18457133488455402, 0.0049552943083144415])\n",
        "\n",
        "# Convert the list to a numpy array and reshape it to have 1 row and 2 columns\n",
        "array_2d = np.array(fake_data).reshape(1, 2)\n",
        "\n",
        "# Scale the data\n",
        "array_2d_scaled = scaler.transform(array_2d)\n",
        "\n",
        "# Reshape the scaled data to match the input shape expected by the model (1 sample, 2 rows, 1 column, 1 channel)\n",
        "array_2d_reshaped = array_2d_scaled.reshape(1, 2, 1, 1)\n",
        "\n",
        "# Use the reshaped array as input to model.predict\n",
        "prediction = model.predict(array_2d_reshaped)\n",
        "\n",
        "print(prediction)\n"
      ],
      "metadata": {
        "execution": {
          "iopub.status.busy": "2024-02-26T09:43:27.990417Z",
          "iopub.execute_input": "2024-02-26T09:43:27.990829Z",
          "iopub.status.idle": "2024-02-26T09:43:28.062716Z",
          "shell.execute_reply.started": "2024-02-26T09:43:27.9908Z",
          "shell.execute_reply": "2024-02-26T09:43:28.061893Z"
        },
        "trusted": true,
        "id": "rGRO_-LTaPkZ",
        "outputId": "7109c5ac-c121-48c7-d0fe-2af3da083091"
      },
      "execution_count": null,
      "outputs": [
        {
          "name": "stdout",
          "text": "1/1 [==============================] - 0s 19ms/step\n[[0.84163177]]\n",
          "output_type": "stream"
        }
      ]
    },
    {
      "cell_type": "code",
      "source": [
        "joblib.dump(scaler, 'scaler1.pkl')\n"
      ],
      "metadata": {
        "execution": {
          "iopub.status.busy": "2024-02-26T09:43:54.29846Z",
          "iopub.execute_input": "2024-02-26T09:43:54.298887Z",
          "iopub.status.idle": "2024-02-26T09:43:54.307195Z",
          "shell.execute_reply.started": "2024-02-26T09:43:54.298853Z",
          "shell.execute_reply": "2024-02-26T09:43:54.306287Z"
        },
        "trusted": true,
        "id": "WkNtnrvdaPkb",
        "outputId": "f0ba1c68-efe6-44ff-96ab-5a1c26ceb5be"
      },
      "execution_count": null,
      "outputs": [
        {
          "execution_count": 79,
          "output_type": "execute_result",
          "data": {
            "text/plain": "['scaler1.pkl']"
          },
          "metadata": {}
        }
      ]
    }
  ]
}